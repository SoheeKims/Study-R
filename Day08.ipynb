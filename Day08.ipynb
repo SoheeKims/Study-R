{
 "cells": [
  {
   "cell_type": "markdown",
   "metadata": {},
   "source": [
    "# 결측치(na) 자료 평균 계산"
   ]
  },
  {
   "cell_type": "code",
   "execution_count": 1,
   "metadata": {},
   "outputs": [],
   "source": [
    "data <- c(10,20,5,4,40,7,NA,6,3,NA,2,NA)"
   ]
  },
  {
   "cell_type": "code",
   "execution_count": 2,
   "metadata": {},
   "outputs": [
    {
     "data": {
      "text/html": [
       "<ol class=list-inline>\n",
       "\t<li>10</li>\n",
       "\t<li>20</li>\n",
       "\t<li>5</li>\n",
       "\t<li>4</li>\n",
       "\t<li>40</li>\n",
       "\t<li>7</li>\n",
       "\t<li>&lt;NA&gt;</li>\n",
       "\t<li>6</li>\n",
       "\t<li>3</li>\n",
       "\t<li>&lt;NA&gt;</li>\n",
       "\t<li>2</li>\n",
       "\t<li>&lt;NA&gt;</li>\n",
       "</ol>\n"
      ],
      "text/latex": [
       "\\begin{enumerate*}\n",
       "\\item 10\n",
       "\\item 20\n",
       "\\item 5\n",
       "\\item 4\n",
       "\\item 40\n",
       "\\item 7\n",
       "\\item <NA>\n",
       "\\item 6\n",
       "\\item 3\n",
       "\\item <NA>\n",
       "\\item 2\n",
       "\\item <NA>\n",
       "\\end{enumerate*}\n"
      ],
      "text/markdown": [
       "1. 10\n",
       "2. 20\n",
       "3. 5\n",
       "4. 4\n",
       "5. 40\n",
       "6. 7\n",
       "7. &lt;NA&gt;\n",
       "8. 6\n",
       "9. 3\n",
       "10. &lt;NA&gt;\n",
       "11. 2\n",
       "12. &lt;NA&gt;\n",
       "\n",
       "\n"
      ],
      "text/plain": [
       " [1] 10 20  5  4 40  7 NA  6  3 NA  2 NA"
      ]
     },
     "metadata": {},
     "output_type": "display_data"
    }
   ],
   "source": [
    "data"
   ]
  },
  {
   "cell_type": "code",
   "execution_count": 3,
   "metadata": {},
   "outputs": [
    {
     "data": {
      "text/html": [
       "&lt;NA&gt;"
      ],
      "text/latex": [
       "<NA>"
      ],
      "text/markdown": [
       "&lt;NA&gt;"
      ],
      "text/plain": [
       "[1] NA"
      ]
     },
     "metadata": {},
     "output_type": "display_data"
    }
   ],
   "source": [
    "# 평균\n",
    "mean(data)"
   ]
  },
  {
   "cell_type": "code",
   "execution_count": 4,
   "metadata": {},
   "outputs": [
    {
     "data": {
      "text/html": [
       "3"
      ],
      "text/latex": [
       "3"
      ],
      "text/markdown": [
       "3"
      ],
      "text/plain": [
       "[1] 3"
      ]
     },
     "metadata": {},
     "output_type": "display_data"
    },
    {
     "data": {
      "text/plain": [
       "\n",
       "FALSE  TRUE \n",
       "    9     3 "
      ]
     },
     "metadata": {},
     "output_type": "display_data"
    }
   ],
   "source": [
    "# NA 갯수 구하기\n",
    "sum(is.na(data))\n",
    "# false는 0 true는 1\n",
    "table(is.na(data))"
   ]
  },
  {
   "cell_type": "code",
   "execution_count": 5,
   "metadata": {},
   "outputs": [],
   "source": [
    "# 결측치를 무조건 제거하면 통계량을 얻을 수 없으며 데이터의 손실로 문제가 발생한다."
   ]
  },
  {
   "cell_type": "code",
   "execution_count": 6,
   "metadata": {},
   "outputs": [
    {
     "data": {
      "text/html": [
       "10.7777777777778"
      ],
      "text/latex": [
       "10.7777777777778"
      ],
      "text/markdown": [
       "10.7777777777778"
      ],
      "text/plain": [
       "[1] 10.77778"
      ]
     },
     "metadata": {},
     "output_type": "display_data"
    }
   ],
   "source": [
    "# 결측치를 제거하고 평균구하기\n",
    "\n",
    "mean(data, na.rm=T)"
   ]
  },
  {
   "cell_type": "code",
   "execution_count": 7,
   "metadata": {},
   "outputs": [
    {
     "data": {
      "text/html": [
       "8.08333333333333"
      ],
      "text/latex": [
       "8.08333333333333"
      ],
      "text/markdown": [
       "8.08333333333333"
      ],
      "text/plain": [
       "[1] 8.083333"
      ]
     },
     "metadata": {},
     "output_type": "display_data"
    }
   ],
   "source": [
    "# 1) NA를 0으로 대체\n",
    "data_0 <- ifelse(is.na(data),0,data)\n",
    "mean(data_0)"
   ]
  },
  {
   "cell_type": "code",
   "execution_count": 8,
   "metadata": {},
   "outputs": [
    {
     "data": {
      "text/html": [
       "10.7777777777778"
      ],
      "text/latex": [
       "10.7777777777778"
      ],
      "text/markdown": [
       "10.7777777777778"
      ],
      "text/plain": [
       "[1] 10.77778"
      ]
     },
     "metadata": {},
     "output_type": "display_data"
    }
   ],
   "source": [
    "# 2) NA를 평균으로 대체\n",
    "data_mean <- ifelse(is.na(data),mean(data,na.rm=T),data)\n",
    "mean(data_mean)"
   ]
  },
  {
   "cell_type": "code",
   "execution_count": 9,
   "metadata": {},
   "outputs": [
    {
     "data": {
      "text/html": [
       "9.58333333333333"
      ],
      "text/latex": [
       "9.58333333333333"
      ],
      "text/markdown": [
       "9.58333333333333"
      ],
      "text/plain": [
       "[1] 9.583333"
      ]
     },
     "metadata": {},
     "output_type": "display_data"
    }
   ],
   "source": [
    "# 3) NA를 중앙값으로 대체\n",
    "data_median <- ifelse(is.na(data), median(data, na.rm=T),data)\n",
    "mean(data_median)"
   ]
  },
  {
   "cell_type": "code",
   "execution_count": 10,
   "metadata": {},
   "outputs": [
    {
     "data": {
      "text/html": [
       "18.0833333333333"
      ],
      "text/latex": [
       "18.0833333333333"
      ],
      "text/markdown": [
       "18.0833333333333"
      ],
      "text/plain": [
       "[1] 18.08333"
      ]
     },
     "metadata": {},
     "output_type": "display_data"
    }
   ],
   "source": [
    "# 4) NA를 최대값으로 대체\n",
    "data_max <- ifelse(is.na(data),max(data, na.rm=T),data)\n",
    "mean(data_max)"
   ]
  },
  {
   "cell_type": "code",
   "execution_count": 11,
   "metadata": {},
   "outputs": [
    {
     "data": {
      "text/html": [
       "8.58333333333333"
      ],
      "text/latex": [
       "8.58333333333333"
      ],
      "text/markdown": [
       "8.58333333333333"
      ],
      "text/plain": [
       "[1] 8.583333"
      ]
     },
     "metadata": {},
     "output_type": "display_data"
    }
   ],
   "source": [
    "# 5) NA를 최소값으로 대체\n",
    "data_min <- ifelse(is.na(data),min(data, na.rm=T),data)\n",
    "mean(data_min)"
   ]
  },
  {
   "cell_type": "code",
   "execution_count": 12,
   "metadata": {},
   "outputs": [],
   "source": [
    "fna <- function(data){\n",
    "    data_0 <- ifelse(is.na(data),0,data)\n",
    "    cat(\"0으로 변환: \",mean(data_0),\"\\n\")\n",
    "    \n",
    "    data_mean <- ifelse(is.na(data),mean(data,na.rm=T),data)\n",
    "    mean(data_mean)\n",
    "    cat(\"평균으로 변환: \",mean(data_mean),\"\\n\")\n",
    "    \n",
    "    data_median <- ifelse(is.na(data), median(data, na.rm=T),data)\n",
    "    mean(data_median)\n",
    "    cat(\"중간값으로 변환: \",mean(data_median),\"\\n\")\n",
    "    \n",
    "    data_max <- ifelse(is.na(data),max(data, na.rm=T),data)\n",
    "    mean(data_max)\n",
    "    cat(\"최대값으로 변환: \",mean(data_max),\"\\n\")\n",
    "    \n",
    "    data_min <- ifelse(is.na(data),min(data, na.rm=T),data)\n",
    "    mean(data_min)\n",
    "    cat(\"최소값으로 변환: \",mean(data_min), \"\\n\")\n",
    "}"
   ]
  },
  {
   "cell_type": "code",
   "execution_count": 13,
   "metadata": {},
   "outputs": [
    {
     "name": "stdout",
     "output_type": "stream",
     "text": [
      "0으로 변환:  8.083333 \n",
      "평균으로 변환:  10.77778 \n",
      "중간값으로 변환:  9.583333 \n",
      "최대값으로 변환:  18.08333 \n",
      "최소값으로 변환:  8.583333 \n"
     ]
    }
   ],
   "source": [
    "fna(data)"
   ]
  },
  {
   "cell_type": "markdown",
   "metadata": {},
   "source": [
    "# 몬테카를로 시뮬레이션 : data가 없을 경우"
   ]
  },
  {
   "cell_type": "code",
   "execution_count": 14,
   "metadata": {},
   "outputs": [
    {
     "data": {
      "text/html": [
       "1"
      ],
      "text/latex": [
       "1"
      ],
      "text/markdown": [
       "1"
      ],
      "text/plain": [
       "[1] 1"
      ]
     },
     "metadata": {},
     "output_type": "display_data"
    }
   ],
   "source": [
    "# 동전의 앞면, 뒷면 나올 확률\n",
    "\n",
    "x <- runif(1)\n",
    "if(x <= 1/2){\n",
    "    result <- 0 # 앞면\n",
    "}else{\n",
    "    result <- 1 # 뒷면\n",
    "}\n",
    "result"
   ]
  },
  {
   "cell_type": "code",
   "execution_count": 15,
   "metadata": {},
   "outputs": [],
   "source": [
    "coin <- function(n){\n",
    "    count1 <- 0 # 앞면\n",
    "    count2 <- 0 # 뒷면\n",
    "    \n",
    "    for(i in 1:n){\n",
    "        if(runif(1)<=1/2){\n",
    "            count1 <- count1+1\n",
    "        }else{\n",
    "            count2 <- count2+1\n",
    "        }\n",
    "    }\n",
    "    cat(\"앞면 :\", count1, \"\\n\")\n",
    "    cat(\"뒷면 :\", count2, \"\\n\")\n",
    "    cat(\"----------------\\n\")\n",
    "}"
   ]
  },
  {
   "cell_type": "code",
   "execution_count": 16,
   "metadata": {},
   "outputs": [
    {
     "name": "stdout",
     "output_type": "stream",
     "text": [
      "앞면 : 6 \n",
      "뒷면 : 4 \n",
      "----------------\n",
      "앞면 : 50 \n",
      "뒷면 : 50 \n",
      "----------------\n",
      "앞면 : 514 \n",
      "뒷면 : 486 \n",
      "----------------\n",
      "앞면 : 5029 \n",
      "뒷면 : 4971 \n",
      "----------------\n",
      "앞면 : 49852 \n",
      "뒷면 : 50148 \n",
      "----------------\n",
      "앞면 : 499826 \n",
      "뒷면 : 500174 \n",
      "----------------\n"
     ]
    }
   ],
   "source": [
    "coin(10)\n",
    "coin(100)\n",
    "coin(1000)\n",
    "coin(10000)\n",
    "coin(100000)\n",
    "coin(1000000)"
   ]
  },
  {
   "cell_type": "code",
   "execution_count": 17,
   "metadata": {},
   "outputs": [],
   "source": [
    "# 가위, 바위, 보 시뮬레이션\n",
    "\n",
    "rock <- function(n){\n",
    "    count1 <- 0 # 가위 scissor\n",
    "    count2 <- 0 # 바위 rock\n",
    "    count3 <- 0 # 보 paper\n",
    "    \n",
    "    for(i in 1:n){\n",
    "        # x<- trunc(runif(1)*3)+1\n",
    "        # if(x==1) count1=count1+1\n",
    "        # if(x==2) count2=count2+1\n",
    "        # if(x==3) count3=count3+1\n",
    "        x<-runif(1)\n",
    "        if(x<=1/3){\n",
    "            count1 <- count1+1\n",
    "        }else if(x<=2/3){\n",
    "            count2 <- count2+1\n",
    "        }else{\n",
    "            count3 <- count3+1\n",
    "        # ---------------------위에 것으로 해야 함.\n",
    "        }\n",
    "    }\n",
    "    cat(\"가위:\\t\",count1,\"\\n\")\n",
    "    cat(\"바위:\\t\",count2,\"\\n\")\n",
    "    cat(\"보:\\t\",count3,\"\\n\")\n",
    "    cat(\"----------------\\n\")\n",
    "}"
   ]
  },
  {
   "cell_type": "code",
   "execution_count": 18,
   "metadata": {},
   "outputs": [
    {
     "name": "stdout",
     "output_type": "stream",
     "text": [
      "가위:\t 4 \n",
      "바위:\t 6 \n",
      "보:\t 0 \n",
      "----------------\n",
      "가위:\t 30 \n",
      "바위:\t 32 \n",
      "보:\t 38 \n",
      "----------------\n",
      "가위:\t 332 \n",
      "바위:\t 344 \n",
      "보:\t 324 \n",
      "----------------\n",
      "가위:\t 3363 \n",
      "바위:\t 3345 \n",
      "보:\t 3292 \n",
      "----------------\n",
      "가위:\t 33461 \n",
      "바위:\t 33305 \n",
      "보:\t 33234 \n",
      "----------------\n",
      "가위:\t 333082 \n",
      "바위:\t 334203 \n",
      "보:\t 332715 \n",
      "----------------\n"
     ]
    }
   ],
   "source": [
    "rock(10)\n",
    "rock(100)\n",
    "rock(1000)\n",
    "rock(10000)\n",
    "rock(100000)\n",
    "rock(1000000)"
   ]
  },
  {
   "cell_type": "markdown",
   "metadata": {},
   "source": [
    "# 파일 입출력"
   ]
  },
  {
   "cell_type": "code",
   "execution_count": 19,
   "metadata": {},
   "outputs": [],
   "source": [
    "# 벡터를 이용한 데이터프레임 만들기\n",
    "no <- 1:4\n",
    "name <- c(\"Apple\",\"Banana\",\"Peach\",\"Berry\")\n",
    "price <- c(500,400,300,200)\n",
    "qty <- c(5,4,3,2)"
   ]
  },
  {
   "cell_type": "code",
   "execution_count": 20,
   "metadata": {},
   "outputs": [
    {
     "data": {
      "text/html": [
       "<table>\n",
       "<thead><tr><th scope=col>번호</th><th scope=col>제품</th><th scope=col>금액</th><th scope=col>수량</th></tr></thead>\n",
       "<tbody>\n",
       "\t<tr><td>1     </td><td>Apple </td><td>500   </td><td>5     </td></tr>\n",
       "\t<tr><td>2     </td><td>Banana</td><td>400   </td><td>4     </td></tr>\n",
       "\t<tr><td>3     </td><td>Peach </td><td>300   </td><td>3     </td></tr>\n",
       "\t<tr><td>4     </td><td>Berry </td><td>200   </td><td>2     </td></tr>\n",
       "</tbody>\n",
       "</table>\n"
      ],
      "text/latex": [
       "\\begin{tabular}{r|llll}\n",
       " 번호 & 제품 & 금액 & 수량\\\\\n",
       "\\hline\n",
       "\t 1      & Apple  & 500    & 5     \\\\\n",
       "\t 2      & Banana & 400    & 4     \\\\\n",
       "\t 3      & Peach  & 300    & 3     \\\\\n",
       "\t 4      & Berry  & 200    & 2     \\\\\n",
       "\\end{tabular}\n"
      ],
      "text/markdown": [
       "\n",
       "| 번호 | 제품 | 금액 | 수량 |\n",
       "|---|---|---|---|\n",
       "| 1      | Apple  | 500    | 5      |\n",
       "| 2      | Banana | 400    | 4      |\n",
       "| 3      | Peach  | 300    | 3      |\n",
       "| 4      | Berry  | 200    | 2      |\n",
       "\n"
      ],
      "text/plain": [
       "  번호 제품   금액 수량\n",
       "1 1    Apple  500  5   \n",
       "2 2    Banana 400  4   \n",
       "3 3    Peach  300  3   \n",
       "4 4    Berry  200  2   "
      ]
     },
     "metadata": {},
     "output_type": "display_data"
    }
   ],
   "source": [
    "fruit <- data.frame(번호=no, 제품=name, 금액=price, 수량=qty)\n",
    "fruit"
   ]
  },
  {
   "cell_type": "code",
   "execution_count": 21,
   "metadata": {},
   "outputs": [
    {
     "data": {
      "text/html": [
       "<ol class=list-inline>\n",
       "\t<li>'coin'</li>\n",
       "\t<li>'data'</li>\n",
       "\t<li>'data_0'</li>\n",
       "\t<li>'data_max'</li>\n",
       "\t<li>'data_mean'</li>\n",
       "\t<li>'data_median'</li>\n",
       "\t<li>'data_min'</li>\n",
       "\t<li>'fna'</li>\n",
       "\t<li>'fruit'</li>\n",
       "\t<li>'name'</li>\n",
       "\t<li>'no'</li>\n",
       "\t<li>'price'</li>\n",
       "\t<li>'qty'</li>\n",
       "\t<li>'result'</li>\n",
       "\t<li>'rock'</li>\n",
       "\t<li>'x'</li>\n",
       "</ol>\n"
      ],
      "text/latex": [
       "\\begin{enumerate*}\n",
       "\\item 'coin'\n",
       "\\item 'data'\n",
       "\\item 'data\\_0'\n",
       "\\item 'data\\_max'\n",
       "\\item 'data\\_mean'\n",
       "\\item 'data\\_median'\n",
       "\\item 'data\\_min'\n",
       "\\item 'fna'\n",
       "\\item 'fruit'\n",
       "\\item 'name'\n",
       "\\item 'no'\n",
       "\\item 'price'\n",
       "\\item 'qty'\n",
       "\\item 'result'\n",
       "\\item 'rock'\n",
       "\\item 'x'\n",
       "\\end{enumerate*}\n"
      ],
      "text/markdown": [
       "1. 'coin'\n",
       "2. 'data'\n",
       "3. 'data_0'\n",
       "4. 'data_max'\n",
       "5. 'data_mean'\n",
       "6. 'data_median'\n",
       "7. 'data_min'\n",
       "8. 'fna'\n",
       "9. 'fruit'\n",
       "10. 'name'\n",
       "11. 'no'\n",
       "12. 'price'\n",
       "13. 'qty'\n",
       "14. 'result'\n",
       "15. 'rock'\n",
       "16. 'x'\n",
       "\n",
       "\n"
      ],
      "text/plain": [
       " [1] \"coin\"        \"data\"        \"data_0\"      \"data_max\"    \"data_mean\"  \n",
       " [6] \"data_median\" \"data_min\"    \"fna\"         \"fruit\"       \"name\"       \n",
       "[11] \"no\"          \"price\"       \"qty\"         \"result\"      \"rock\"       \n",
       "[16] \"x\"          "
      ]
     },
     "metadata": {},
     "output_type": "display_data"
    }
   ],
   "source": [
    "# 현재 메모리에 있는 변수 보기\n",
    "ls()"
   ]
  },
  {
   "cell_type": "code",
   "execution_count": 22,
   "metadata": {},
   "outputs": [],
   "source": [
    "# 메모리 형태로 파일보관 \n",
    "## 컴퓨터 용량 정리할 때 or 나만 봐야할 때 이용.\n",
    "save(fruit, file=\"../Data/fruit.txt\")"
   ]
  },
  {
   "cell_type": "code",
   "execution_count": 23,
   "metadata": {},
   "outputs": [],
   "source": [
    "rm(fruit)"
   ]
  },
  {
   "cell_type": "code",
   "execution_count": 24,
   "metadata": {},
   "outputs": [],
   "source": [
    "#fruit"
   ]
  },
  {
   "cell_type": "code",
   "execution_count": 25,
   "metadata": {},
   "outputs": [],
   "source": [
    "# 메모리로 불러오기\n",
    "load(\"../Data/fruit.txt\")"
   ]
  },
  {
   "cell_type": "code",
   "execution_count": 26,
   "metadata": {},
   "outputs": [
    {
     "data": {
      "text/html": [
       "<table>\n",
       "<thead><tr><th scope=col>번호</th><th scope=col>제품</th><th scope=col>금액</th><th scope=col>수량</th></tr></thead>\n",
       "<tbody>\n",
       "\t<tr><td>1     </td><td>Apple </td><td>500   </td><td>5     </td></tr>\n",
       "\t<tr><td>2     </td><td>Banana</td><td>400   </td><td>4     </td></tr>\n",
       "\t<tr><td>3     </td><td>Peach </td><td>300   </td><td>3     </td></tr>\n",
       "\t<tr><td>4     </td><td>Berry </td><td>200   </td><td>2     </td></tr>\n",
       "</tbody>\n",
       "</table>\n"
      ],
      "text/latex": [
       "\\begin{tabular}{r|llll}\n",
       " 번호 & 제품 & 금액 & 수량\\\\\n",
       "\\hline\n",
       "\t 1      & Apple  & 500    & 5     \\\\\n",
       "\t 2      & Banana & 400    & 4     \\\\\n",
       "\t 3      & Peach  & 300    & 3     \\\\\n",
       "\t 4      & Berry  & 200    & 2     \\\\\n",
       "\\end{tabular}\n"
      ],
      "text/markdown": [
       "\n",
       "| 번호 | 제품 | 금액 | 수량 |\n",
       "|---|---|---|---|\n",
       "| 1      | Apple  | 500    | 5      |\n",
       "| 2      | Banana | 400    | 4      |\n",
       "| 3      | Peach  | 300    | 3      |\n",
       "| 4      | Berry  | 200    | 2      |\n",
       "\n"
      ],
      "text/plain": [
       "  번호 제품   금액 수량\n",
       "1 1    Apple  500  5   \n",
       "2 2    Banana 400  4   \n",
       "3 3    Peach  300  3   \n",
       "4 4    Berry  200  2   "
      ]
     },
     "metadata": {},
     "output_type": "display_data"
    }
   ],
   "source": [
    "fruit"
   ]
  },
  {
   "cell_type": "code",
   "execution_count": 27,
   "metadata": {},
   "outputs": [],
   "source": [
    "# fruit를 csv로 저장하기\n",
    "write.csv(fruit, \"../Data/fruit.csv\", row.names=F)"
   ]
  },
  {
   "cell_type": "code",
   "execution_count": 28,
   "metadata": {},
   "outputs": [
    {
     "data": {
      "text/html": [
       "<table>\n",
       "<thead><tr><th scope=col>번호</th><th scope=col>제품</th><th scope=col>금액</th><th scope=col>수량</th></tr></thead>\n",
       "<tbody>\n",
       "\t<tr><td>1     </td><td>Apple </td><td>500   </td><td>5     </td></tr>\n",
       "\t<tr><td>2     </td><td>Banana</td><td>400   </td><td>4     </td></tr>\n",
       "\t<tr><td>3     </td><td>Peach </td><td>300   </td><td>3     </td></tr>\n",
       "\t<tr><td>4     </td><td>Berry </td><td>200   </td><td>2     </td></tr>\n",
       "</tbody>\n",
       "</table>\n"
      ],
      "text/latex": [
       "\\begin{tabular}{r|llll}\n",
       " 번호 & 제품 & 금액 & 수량\\\\\n",
       "\\hline\n",
       "\t 1      & Apple  & 500    & 5     \\\\\n",
       "\t 2      & Banana & 400    & 4     \\\\\n",
       "\t 3      & Peach  & 300    & 3     \\\\\n",
       "\t 4      & Berry  & 200    & 2     \\\\\n",
       "\\end{tabular}\n"
      ],
      "text/markdown": [
       "\n",
       "| 번호 | 제품 | 금액 | 수량 |\n",
       "|---|---|---|---|\n",
       "| 1      | Apple  | 500    | 5      |\n",
       "| 2      | Banana | 400    | 4      |\n",
       "| 3      | Peach  | 300    | 3      |\n",
       "| 4      | Berry  | 200    | 2      |\n",
       "\n"
      ],
      "text/plain": [
       "  번호 제품   금액 수량\n",
       "1 1    Apple  500  5   \n",
       "2 2    Banana 400  4   \n",
       "3 3    Peach  300  3   \n",
       "4 4    Berry  200  2   "
      ]
     },
     "metadata": {},
     "output_type": "display_data"
    }
   ],
   "source": [
    "read.csv(\"../Data/fruit.csv\")"
   ]
  },
  {
   "cell_type": "markdown",
   "metadata": {},
   "source": [
    "# 세계 GDP순위 데이터 정제 및 차트 만들기"
   ]
  },
  {
   "cell_type": "code",
   "execution_count": 29,
   "metadata": {},
   "outputs": [
    {
     "data": {
      "text/html": [
       "<table>\n",
       "<thead><tr><th scope=col>X</th><th scope=col>Gross.domestic.product.2018</th><th scope=col>X.1</th><th scope=col>X.2</th><th scope=col>X.3</th><th scope=col>X.4</th></tr></thead>\n",
       "<tbody>\n",
       "\t<tr><td>              </td><td>              </td><td>NA            </td><td>              </td><td>              </td><td>              </td></tr>\n",
       "\t<tr><td>              </td><td>              </td><td>NA            </td><td>              </td><td>(millions of  </td><td>              </td></tr>\n",
       "\t<tr><td>              </td><td>Ranking       </td><td>NA            </td><td>Economy       </td><td>US dollars)   </td><td>              </td></tr>\n",
       "\t<tr><td>              </td><td>              </td><td>NA            </td><td>              </td><td>              </td><td>              </td></tr>\n",
       "\t<tr><td>USA           </td><td>1             </td><td>NA            </td><td>United States </td><td> 20,494,100   </td><td>              </td></tr>\n",
       "\t<tr><td>CHN           </td><td>2             </td><td>NA            </td><td>China         </td><td> 13,608,152   </td><td>              </td></tr>\n",
       "\t<tr><td>JPN           </td><td>3             </td><td>NA            </td><td>Japan         </td><td> 4,970,916    </td><td>              </td></tr>\n",
       "\t<tr><td>DEU           </td><td>4             </td><td>NA            </td><td>Germany       </td><td> 3,996,759    </td><td>              </td></tr>\n",
       "\t<tr><td>GBR           </td><td>5             </td><td>NA            </td><td>United Kingdom</td><td> 2,825,208    </td><td>              </td></tr>\n",
       "\t<tr><td>FRA           </td><td>6             </td><td>NA            </td><td>France        </td><td> 2,777,535    </td><td>              </td></tr>\n",
       "</tbody>\n",
       "</table>\n"
      ],
      "text/latex": [
       "\\begin{tabular}{r|llllll}\n",
       " X & Gross.domestic.product.2018 & X.1 & X.2 & X.3 & X.4\\\\\n",
       "\\hline\n",
       "\t                &                & NA             &                &                &               \\\\\n",
       "\t                &                & NA             &                & (millions of   &               \\\\\n",
       "\t                & Ranking        & NA             & Economy        & US dollars)    &               \\\\\n",
       "\t                &                & NA             &                &                &               \\\\\n",
       "\t USA            & 1              & NA             & United States  &  20,494,100    &               \\\\\n",
       "\t CHN            & 2              & NA             & China          &  13,608,152    &               \\\\\n",
       "\t JPN            & 3              & NA             & Japan          &  4,970,916     &               \\\\\n",
       "\t DEU            & 4              & NA             & Germany        &  3,996,759     &               \\\\\n",
       "\t GBR            & 5              & NA             & United Kingdom &  2,825,208     &               \\\\\n",
       "\t FRA            & 6              & NA             & France         &  2,777,535     &               \\\\\n",
       "\\end{tabular}\n"
      ],
      "text/markdown": [
       "\n",
       "| X | Gross.domestic.product.2018 | X.1 | X.2 | X.3 | X.4 |\n",
       "|---|---|---|---|---|---|\n",
       "|                |                | NA             |                |                |                |\n",
       "|                |                | NA             |                | (millions of   |                |\n",
       "|                | Ranking        | NA             | Economy        | US dollars)    |                |\n",
       "|                |                | NA             |                |                |                |\n",
       "| USA            | 1              | NA             | United States  |  20,494,100    |                |\n",
       "| CHN            | 2              | NA             | China          |  13,608,152    |                |\n",
       "| JPN            | 3              | NA             | Japan          |  4,970,916     |                |\n",
       "| DEU            | 4              | NA             | Germany        |  3,996,759     |                |\n",
       "| GBR            | 5              | NA             | United Kingdom |  2,825,208     |                |\n",
       "| FRA            | 6              | NA             | France         |  2,777,535     |                |\n",
       "\n"
      ],
      "text/plain": [
       "   X   Gross.domestic.product.2018 X.1 X.2            X.3          X.4\n",
       "1                                  NA                                 \n",
       "2                                  NA                 (millions of    \n",
       "3      Ranking                     NA  Economy        US dollars)     \n",
       "4                                  NA                                 \n",
       "5  USA 1                           NA  United States   20,494,100     \n",
       "6  CHN 2                           NA  China           13,608,152     \n",
       "7  JPN 3                           NA  Japan           4,970,916      \n",
       "8  DEU 4                           NA  Germany         3,996,759      \n",
       "9  GBR 5                           NA  United Kingdom  2,825,208      \n",
       "10 FRA 6                           NA  France          2,777,535      "
      ]
     },
     "metadata": {},
     "output_type": "display_data"
    }
   ],
   "source": [
    "GDP_ranking <- read.csv(\"../Data/GDP.csv\")\n",
    "head(GDP_ranking, 10)"
   ]
  },
  {
   "cell_type": "code",
   "execution_count": 30,
   "metadata": {},
   "outputs": [
    {
     "data": {
      "text/html": [
       "<table>\n",
       "<thead><tr><th></th><th scope=col>X</th><th scope=col>Gross.domestic.product.2018</th><th scope=col>X.2</th><th scope=col>X.3</th></tr></thead>\n",
       "<tbody>\n",
       "\t<tr><th scope=row>5</th><td>USA           </td><td>1             </td><td>United States </td><td> 20,494,100   </td></tr>\n",
       "\t<tr><th scope=row>6</th><td>CHN           </td><td>2             </td><td>China         </td><td> 13,608,152   </td></tr>\n",
       "\t<tr><th scope=row>7</th><td>JPN           </td><td>3             </td><td>Japan         </td><td> 4,970,916    </td></tr>\n",
       "\t<tr><th scope=row>8</th><td>DEU           </td><td>4             </td><td>Germany       </td><td> 3,996,759    </td></tr>\n",
       "\t<tr><th scope=row>9</th><td>GBR           </td><td>5             </td><td>United Kingdom</td><td> 2,825,208    </td></tr>\n",
       "\t<tr><th scope=row>10</th><td>FRA           </td><td>6             </td><td>France        </td><td> 2,777,535    </td></tr>\n",
       "\t<tr><th scope=row>11</th><td>IND           </td><td>7             </td><td>India         </td><td> 2,726,323    </td></tr>\n",
       "\t<tr><th scope=row>12</th><td>ITA           </td><td>8             </td><td>Italy         </td><td> 2,073,902    </td></tr>\n",
       "\t<tr><th scope=row>13</th><td>BRA           </td><td>9             </td><td>Brazil        </td><td> 1,868,626    </td></tr>\n",
       "\t<tr><th scope=row>14</th><td>CAN           </td><td>10            </td><td>Canada        </td><td> 1,712,510    </td></tr>\n",
       "</tbody>\n",
       "</table>\n"
      ],
      "text/latex": [
       "\\begin{tabular}{r|llll}\n",
       "  & X & Gross.domestic.product.2018 & X.2 & X.3\\\\\n",
       "\\hline\n",
       "\t5 & USA            & 1              & United States  &  20,494,100   \\\\\n",
       "\t6 & CHN            & 2              & China          &  13,608,152   \\\\\n",
       "\t7 & JPN            & 3              & Japan          &  4,970,916    \\\\\n",
       "\t8 & DEU            & 4              & Germany        &  3,996,759    \\\\\n",
       "\t9 & GBR            & 5              & United Kingdom &  2,825,208    \\\\\n",
       "\t10 & FRA            & 6              & France         &  2,777,535    \\\\\n",
       "\t11 & IND            & 7              & India          &  2,726,323    \\\\\n",
       "\t12 & ITA            & 8              & Italy          &  2,073,902    \\\\\n",
       "\t13 & BRA            & 9              & Brazil         &  1,868,626    \\\\\n",
       "\t14 & CAN            & 10             & Canada         &  1,712,510    \\\\\n",
       "\\end{tabular}\n"
      ],
      "text/markdown": [
       "\n",
       "| <!--/--> | X | Gross.domestic.product.2018 | X.2 | X.3 |\n",
       "|---|---|---|---|---|\n",
       "| 5 | USA            | 1              | United States  |  20,494,100    |\n",
       "| 6 | CHN            | 2              | China          |  13,608,152    |\n",
       "| 7 | JPN            | 3              | Japan          |  4,970,916     |\n",
       "| 8 | DEU            | 4              | Germany        |  3,996,759     |\n",
       "| 9 | GBR            | 5              | United Kingdom |  2,825,208     |\n",
       "| 10 | FRA            | 6              | France         |  2,777,535     |\n",
       "| 11 | IND            | 7              | India          |  2,726,323     |\n",
       "| 12 | ITA            | 8              | Italy          |  2,073,902     |\n",
       "| 13 | BRA            | 9              | Brazil         |  1,868,626     |\n",
       "| 14 | CAN            | 10             | Canada         |  1,712,510     |\n",
       "\n"
      ],
      "text/plain": [
       "   X   Gross.domestic.product.2018 X.2            X.3         \n",
       "5  USA 1                           United States   20,494,100 \n",
       "6  CHN 2                           China           13,608,152 \n",
       "7  JPN 3                           Japan           4,970,916  \n",
       "8  DEU 4                           Germany         3,996,759  \n",
       "9  GBR 5                           United Kingdom  2,825,208  \n",
       "10 FRA 6                           France          2,777,535  \n",
       "11 IND 7                           India           2,726,323  \n",
       "12 ITA 8                           Italy           2,073,902  \n",
       "13 BRA 9                           Brazil          1,868,626  \n",
       "14 CAN 10                          Canada          1,712,510  "
      ]
     },
     "metadata": {},
     "output_type": "display_data"
    }
   ],
   "source": [
    "# 1~4번째 줄 삭제\n",
    "# 컬럼은 1,2,4,5만 발췌\n",
    "## 필요 없는 것은 -로 빼고, 필요한 것은 작성\n",
    "GDP_ranking2 <- GDP_ranking[-c(1:4),c(1,2,4,5)]\n",
    "head(GDP_ranking2, 10)"
   ]
  },
  {
   "cell_type": "code",
   "execution_count": 31,
   "metadata": {},
   "outputs": [
    {
     "data": {
      "text/html": [
       "<table>\n",
       "<thead><tr><th></th><th scope=col>X</th><th scope=col>Gross.domestic.product.2018</th><th scope=col>X.2</th><th scope=col>X.3</th></tr></thead>\n",
       "<tbody>\n",
       "\t<tr><th scope=row>5</th><td>USA               </td><td>1                 </td><td>United States     </td><td> 20,494,100       </td></tr>\n",
       "\t<tr><th scope=row>6</th><td>CHN               </td><td>2                 </td><td>China             </td><td> 13,608,152       </td></tr>\n",
       "\t<tr><th scope=row>7</th><td>JPN               </td><td>3                 </td><td>Japan             </td><td> 4,970,916        </td></tr>\n",
       "\t<tr><th scope=row>8</th><td>DEU               </td><td>4                 </td><td>Germany           </td><td> 3,996,759        </td></tr>\n",
       "\t<tr><th scope=row>9</th><td>GBR               </td><td>5                 </td><td>United Kingdom    </td><td> 2,825,208        </td></tr>\n",
       "\t<tr><th scope=row>10</th><td>FRA               </td><td>6                 </td><td>France            </td><td> 2,777,535        </td></tr>\n",
       "\t<tr><th scope=row>11</th><td>IND               </td><td>7                 </td><td>India             </td><td> 2,726,323        </td></tr>\n",
       "\t<tr><th scope=row>12</th><td>ITA               </td><td>8                 </td><td>Italy             </td><td> 2,073,902        </td></tr>\n",
       "\t<tr><th scope=row>13</th><td>BRA               </td><td>9                 </td><td>Brazil            </td><td> 1,868,626        </td></tr>\n",
       "\t<tr><th scope=row>14</th><td>CAN               </td><td>10                </td><td>Canada            </td><td> 1,712,510        </td></tr>\n",
       "\t<tr><th scope=row>15</th><td>RUS               </td><td>11                </td><td>Russian Federation</td><td> 1,657,554        </td></tr>\n",
       "\t<tr><th scope=row>16</th><td>KOR               </td><td>12                </td><td>Korea, Rep.       </td><td> 1,619,424        </td></tr>\n",
       "\t<tr><th scope=row>17</th><td>AUS               </td><td>13                </td><td>Australia         </td><td> 1,432,195        </td></tr>\n",
       "\t<tr><th scope=row>18</th><td>ESP               </td><td>14                </td><td>Spain             </td><td> 1,426,189        </td></tr>\n",
       "\t<tr><th scope=row>19</th><td>MEX               </td><td>15                </td><td>Mexico            </td><td> 1,223,809        </td></tr>\n",
       "</tbody>\n",
       "</table>\n"
      ],
      "text/latex": [
       "\\begin{tabular}{r|llll}\n",
       "  & X & Gross.domestic.product.2018 & X.2 & X.3\\\\\n",
       "\\hline\n",
       "\t5 & USA                & 1                  & United States      &  20,494,100       \\\\\n",
       "\t6 & CHN                & 2                  & China              &  13,608,152       \\\\\n",
       "\t7 & JPN                & 3                  & Japan              &  4,970,916        \\\\\n",
       "\t8 & DEU                & 4                  & Germany            &  3,996,759        \\\\\n",
       "\t9 & GBR                & 5                  & United Kingdom     &  2,825,208        \\\\\n",
       "\t10 & FRA                & 6                  & France             &  2,777,535        \\\\\n",
       "\t11 & IND                & 7                  & India              &  2,726,323        \\\\\n",
       "\t12 & ITA                & 8                  & Italy              &  2,073,902        \\\\\n",
       "\t13 & BRA                & 9                  & Brazil             &  1,868,626        \\\\\n",
       "\t14 & CAN                & 10                 & Canada             &  1,712,510        \\\\\n",
       "\t15 & RUS                & 11                 & Russian Federation &  1,657,554        \\\\\n",
       "\t16 & KOR                & 12                 & Korea, Rep.        &  1,619,424        \\\\\n",
       "\t17 & AUS                & 13                 & Australia          &  1,432,195        \\\\\n",
       "\t18 & ESP                & 14                 & Spain              &  1,426,189        \\\\\n",
       "\t19 & MEX                & 15                 & Mexico             &  1,223,809        \\\\\n",
       "\\end{tabular}\n"
      ],
      "text/markdown": [
       "\n",
       "| <!--/--> | X | Gross.domestic.product.2018 | X.2 | X.3 |\n",
       "|---|---|---|---|---|\n",
       "| 5 | USA                | 1                  | United States      |  20,494,100        |\n",
       "| 6 | CHN                | 2                  | China              |  13,608,152        |\n",
       "| 7 | JPN                | 3                  | Japan              |  4,970,916         |\n",
       "| 8 | DEU                | 4                  | Germany            |  3,996,759         |\n",
       "| 9 | GBR                | 5                  | United Kingdom     |  2,825,208         |\n",
       "| 10 | FRA                | 6                  | France             |  2,777,535         |\n",
       "| 11 | IND                | 7                  | India              |  2,726,323         |\n",
       "| 12 | ITA                | 8                  | Italy              |  2,073,902         |\n",
       "| 13 | BRA                | 9                  | Brazil             |  1,868,626         |\n",
       "| 14 | CAN                | 10                 | Canada             |  1,712,510         |\n",
       "| 15 | RUS                | 11                 | Russian Federation |  1,657,554         |\n",
       "| 16 | KOR                | 12                 | Korea, Rep.        |  1,619,424         |\n",
       "| 17 | AUS                | 13                 | Australia          |  1,432,195         |\n",
       "| 18 | ESP                | 14                 | Spain              |  1,426,189         |\n",
       "| 19 | MEX                | 15                 | Mexico             |  1,223,809         |\n",
       "\n"
      ],
      "text/plain": [
       "   X   Gross.domestic.product.2018 X.2                X.3         \n",
       "5  USA 1                           United States       20,494,100 \n",
       "6  CHN 2                           China               13,608,152 \n",
       "7  JPN 3                           Japan               4,970,916  \n",
       "8  DEU 4                           Germany             3,996,759  \n",
       "9  GBR 5                           United Kingdom      2,825,208  \n",
       "10 FRA 6                           France              2,777,535  \n",
       "11 IND 7                           India               2,726,323  \n",
       "12 ITA 8                           Italy               2,073,902  \n",
       "13 BRA 9                           Brazil              1,868,626  \n",
       "14 CAN 10                          Canada              1,712,510  \n",
       "15 RUS 11                          Russian Federation  1,657,554  \n",
       "16 KOR 12                          Korea, Rep.         1,619,424  \n",
       "17 AUS 13                          Australia           1,432,195  \n",
       "18 ESP 14                          Spain               1,426,189  \n",
       "19 MEX 15                          Mexico              1,223,809  "
      ]
     },
     "metadata": {},
     "output_type": "display_data"
    }
   ],
   "source": [
    "# 상위 14개국만 선별\n",
    "GDP_ranking15 <- GDP_ranking2[1:15,]\n",
    "GDP_ranking15"
   ]
  },
  {
   "cell_type": "code",
   "execution_count": 32,
   "metadata": {},
   "outputs": [
    {
     "data": {
      "text/html": [
       "<table>\n",
       "<thead><tr><th></th><th scope=col>Code</th><th scope=col>Ranking</th><th scope=col>Nation</th><th scope=col>GDP</th></tr></thead>\n",
       "<tbody>\n",
       "\t<tr><th scope=row>5</th><td>USA               </td><td>1                 </td><td>United States     </td><td> 20,494,100       </td></tr>\n",
       "\t<tr><th scope=row>6</th><td>CHN               </td><td>2                 </td><td>China             </td><td> 13,608,152       </td></tr>\n",
       "\t<tr><th scope=row>7</th><td>JPN               </td><td>3                 </td><td>Japan             </td><td> 4,970,916        </td></tr>\n",
       "\t<tr><th scope=row>8</th><td>DEU               </td><td>4                 </td><td>Germany           </td><td> 3,996,759        </td></tr>\n",
       "\t<tr><th scope=row>9</th><td>GBR               </td><td>5                 </td><td>United Kingdom    </td><td> 2,825,208        </td></tr>\n",
       "\t<tr><th scope=row>10</th><td>FRA               </td><td>6                 </td><td>France            </td><td> 2,777,535        </td></tr>\n",
       "\t<tr><th scope=row>11</th><td>IND               </td><td>7                 </td><td>India             </td><td> 2,726,323        </td></tr>\n",
       "\t<tr><th scope=row>12</th><td>ITA               </td><td>8                 </td><td>Italy             </td><td> 2,073,902        </td></tr>\n",
       "\t<tr><th scope=row>13</th><td>BRA               </td><td>9                 </td><td>Brazil            </td><td> 1,868,626        </td></tr>\n",
       "\t<tr><th scope=row>14</th><td>CAN               </td><td>10                </td><td>Canada            </td><td> 1,712,510        </td></tr>\n",
       "\t<tr><th scope=row>15</th><td>RUS               </td><td>11                </td><td>Russian Federation</td><td> 1,657,554        </td></tr>\n",
       "\t<tr><th scope=row>16</th><td>KOR               </td><td>12                </td><td>Korea, Rep.       </td><td> 1,619,424        </td></tr>\n",
       "\t<tr><th scope=row>17</th><td>AUS               </td><td>13                </td><td>Australia         </td><td> 1,432,195        </td></tr>\n",
       "\t<tr><th scope=row>18</th><td>ESP               </td><td>14                </td><td>Spain             </td><td> 1,426,189        </td></tr>\n",
       "\t<tr><th scope=row>19</th><td>MEX               </td><td>15                </td><td>Mexico            </td><td> 1,223,809        </td></tr>\n",
       "</tbody>\n",
       "</table>\n"
      ],
      "text/latex": [
       "\\begin{tabular}{r|llll}\n",
       "  & Code & Ranking & Nation & GDP\\\\\n",
       "\\hline\n",
       "\t5 & USA                & 1                  & United States      &  20,494,100       \\\\\n",
       "\t6 & CHN                & 2                  & China              &  13,608,152       \\\\\n",
       "\t7 & JPN                & 3                  & Japan              &  4,970,916        \\\\\n",
       "\t8 & DEU                & 4                  & Germany            &  3,996,759        \\\\\n",
       "\t9 & GBR                & 5                  & United Kingdom     &  2,825,208        \\\\\n",
       "\t10 & FRA                & 6                  & France             &  2,777,535        \\\\\n",
       "\t11 & IND                & 7                  & India              &  2,726,323        \\\\\n",
       "\t12 & ITA                & 8                  & Italy              &  2,073,902        \\\\\n",
       "\t13 & BRA                & 9                  & Brazil             &  1,868,626        \\\\\n",
       "\t14 & CAN                & 10                 & Canada             &  1,712,510        \\\\\n",
       "\t15 & RUS                & 11                 & Russian Federation &  1,657,554        \\\\\n",
       "\t16 & KOR                & 12                 & Korea, Rep.        &  1,619,424        \\\\\n",
       "\t17 & AUS                & 13                 & Australia          &  1,432,195        \\\\\n",
       "\t18 & ESP                & 14                 & Spain              &  1,426,189        \\\\\n",
       "\t19 & MEX                & 15                 & Mexico             &  1,223,809        \\\\\n",
       "\\end{tabular}\n"
      ],
      "text/markdown": [
       "\n",
       "| <!--/--> | Code | Ranking | Nation | GDP |\n",
       "|---|---|---|---|---|\n",
       "| 5 | USA                | 1                  | United States      |  20,494,100        |\n",
       "| 6 | CHN                | 2                  | China              |  13,608,152        |\n",
       "| 7 | JPN                | 3                  | Japan              |  4,970,916         |\n",
       "| 8 | DEU                | 4                  | Germany            |  3,996,759         |\n",
       "| 9 | GBR                | 5                  | United Kingdom     |  2,825,208         |\n",
       "| 10 | FRA                | 6                  | France             |  2,777,535         |\n",
       "| 11 | IND                | 7                  | India              |  2,726,323         |\n",
       "| 12 | ITA                | 8                  | Italy              |  2,073,902         |\n",
       "| 13 | BRA                | 9                  | Brazil             |  1,868,626         |\n",
       "| 14 | CAN                | 10                 | Canada             |  1,712,510         |\n",
       "| 15 | RUS                | 11                 | Russian Federation |  1,657,554         |\n",
       "| 16 | KOR                | 12                 | Korea, Rep.        |  1,619,424         |\n",
       "| 17 | AUS                | 13                 | Australia          |  1,432,195         |\n",
       "| 18 | ESP                | 14                 | Spain              |  1,426,189         |\n",
       "| 19 | MEX                | 15                 | Mexico             |  1,223,809         |\n",
       "\n"
      ],
      "text/plain": [
       "   Code Ranking Nation             GDP         \n",
       "5  USA  1       United States       20,494,100 \n",
       "6  CHN  2       China               13,608,152 \n",
       "7  JPN  3       Japan               4,970,916  \n",
       "8  DEU  4       Germany             3,996,759  \n",
       "9  GBR  5       United Kingdom      2,825,208  \n",
       "10 FRA  6       France              2,777,535  \n",
       "11 IND  7       India               2,726,323  \n",
       "12 ITA  8       Italy               2,073,902  \n",
       "13 BRA  9       Brazil              1,868,626  \n",
       "14 CAN  10      Canada              1,712,510  \n",
       "15 RUS  11      Russian Federation  1,657,554  \n",
       "16 KOR  12      Korea, Rep.         1,619,424  \n",
       "17 AUS  13      Australia           1,432,195  \n",
       "18 ESP  14      Spain               1,426,189  \n",
       "19 MEX  15      Mexico              1,223,809  "
      ]
     },
     "metadata": {},
     "output_type": "display_data"
    }
   ],
   "source": [
    "# 컬럼 이름 변경하기\n",
    "colnames(GDP_ranking15)<- c(\"Code\",\"Ranking\",\"Nation\",\"GDP\")\n",
    "GDP_ranking15"
   ]
  },
  {
   "cell_type": "code",
   "execution_count": 33,
   "metadata": {},
   "outputs": [
    {
     "data": {
      "text/html": [
       "<table>\n",
       "<thead><tr><th></th><th scope=col>Code</th><th scope=col>Ranking</th><th scope=col>Nation</th><th scope=col>GDP</th></tr></thead>\n",
       "<tbody>\n",
       "\t<tr><th scope=row>10</th><td>CAN               </td><td>10                </td><td>Canada            </td><td> 1,712,510        </td></tr>\n",
       "\t<tr><th scope=row>11</th><td>RUS               </td><td>11                </td><td>Russian Federation</td><td> 1,657,554        </td></tr>\n",
       "\t<tr><th scope=row>12</th><td>KOR               </td><td>12                </td><td>Korea, Rep.       </td><td> 1,619,424        </td></tr>\n",
       "\t<tr><th scope=row>13</th><td>AUS               </td><td>13                </td><td>Australia         </td><td> 1,432,195        </td></tr>\n",
       "\t<tr><th scope=row>14</th><td>ESP               </td><td>14                </td><td>Spain             </td><td> 1,426,189        </td></tr>\n",
       "\t<tr><th scope=row>15</th><td>MEX               </td><td>15                </td><td>Mexico            </td><td> 1,223,809        </td></tr>\n",
       "</tbody>\n",
       "</table>\n"
      ],
      "text/latex": [
       "\\begin{tabular}{r|llll}\n",
       "  & Code & Ranking & Nation & GDP\\\\\n",
       "\\hline\n",
       "\t10 & CAN                & 10                 & Canada             &  1,712,510        \\\\\n",
       "\t11 & RUS                & 11                 & Russian Federation &  1,657,554        \\\\\n",
       "\t12 & KOR                & 12                 & Korea, Rep.        &  1,619,424        \\\\\n",
       "\t13 & AUS                & 13                 & Australia          &  1,432,195        \\\\\n",
       "\t14 & ESP                & 14                 & Spain              &  1,426,189        \\\\\n",
       "\t15 & MEX                & 15                 & Mexico             &  1,223,809        \\\\\n",
       "\\end{tabular}\n"
      ],
      "text/markdown": [
       "\n",
       "| <!--/--> | Code | Ranking | Nation | GDP |\n",
       "|---|---|---|---|---|\n",
       "| 10 | CAN                | 10                 | Canada             |  1,712,510         |\n",
       "| 11 | RUS                | 11                 | Russian Federation |  1,657,554         |\n",
       "| 12 | KOR                | 12                 | Korea, Rep.        |  1,619,424         |\n",
       "| 13 | AUS                | 13                 | Australia          |  1,432,195         |\n",
       "| 14 | ESP                | 14                 | Spain              |  1,426,189         |\n",
       "| 15 | MEX                | 15                 | Mexico             |  1,223,809         |\n",
       "\n"
      ],
      "text/plain": [
       "   Code Ranking Nation             GDP        \n",
       "10 CAN  10      Canada              1,712,510 \n",
       "11 RUS  11      Russian Federation  1,657,554 \n",
       "12 KOR  12      Korea, Rep.         1,619,424 \n",
       "13 AUS  13      Australia           1,432,195 \n",
       "14 ESP  14      Spain               1,426,189 \n",
       "15 MEX  15      Mexico              1,223,809 "
      ]
     },
     "metadata": {},
     "output_type": "display_data"
    }
   ],
   "source": [
    "# Row이름 변경하기\n",
    "rownames(GDP_ranking15)<-c()\n",
    "tail(GDP_ranking15)"
   ]
  },
  {
   "cell_type": "code",
   "execution_count": 34,
   "metadata": {},
   "outputs": [
    {
     "name": "stdout",
     "output_type": "stream",
     "text": [
      "'data.frame':\t15 obs. of  4 variables:\n",
      " $ Code   : Factor w/ 230 levels \"\",\"ABW\",\"AFG\",..: 216 38 103 52 72 68 94 100 28 34 ...\n",
      " $ Ranking: Factor w/ 212 levels \"\",\".. Not available.  \",..: 3 114 131 142 153 164 175 186 197 4 ...\n",
      " $ Nation : Factor w/ 231 levels \"\",\"Afghanistan\",..: 219 43 104 78 218 73 95 102 28 37 ...\n",
      " $ GDP    : Factor w/ 220 levels \"\",\" .. \",\" 1,022 \",..: 78 44 137 113 77 75 74 67 20 19 ...\n"
     ]
    }
   ],
   "source": [
    "# 구조 확인\n",
    "str(GDP_ranking15)"
   ]
  },
  {
   "cell_type": "code",
   "execution_count": 35,
   "metadata": {},
   "outputs": [],
   "source": [
    "# factor 조정\n",
    "GDP_ranking15$Code <- factor(GDP_ranking15$Code)"
   ]
  },
  {
   "cell_type": "code",
   "execution_count": 36,
   "metadata": {},
   "outputs": [
    {
     "name": "stdout",
     "output_type": "stream",
     "text": [
      "'data.frame':\t15 obs. of  4 variables:\n",
      " $ Code   : Factor w/ 15 levels \"AUS\",\"BRA\",\"CAN\",..: 15 4 11 5 8 7 9 10 2 3 ...\n",
      " $ Ranking: Factor w/ 212 levels \"\",\".. Not available.  \",..: 3 114 131 142 153 164 175 186 197 4 ...\n",
      " $ Nation : Factor w/ 231 levels \"\",\"Afghanistan\",..: 219 43 104 78 218 73 95 102 28 37 ...\n",
      " $ GDP    : Factor w/ 220 levels \"\",\" .. \",\" 1,022 \",..: 78 44 137 113 77 75 74 67 20 19 ...\n"
     ]
    }
   ],
   "source": [
    "str(GDP_ranking15)"
   ]
  },
  {
   "cell_type": "code",
   "execution_count": 37,
   "metadata": {},
   "outputs": [
    {
     "name": "stdout",
     "output_type": "stream",
     "text": [
      "'data.frame':\t15 obs. of  4 variables:\n",
      " $ Code   : Factor w/ 15 levels \"AUS\",\"BRA\",\"CAN\",..: 15 4 11 5 8 7 9 10 2 3 ...\n",
      " $ Ranking: Factor w/ 15 levels \"1\",\"10\",\"11\",..: 1 8 9 10 11 12 13 14 15 2 ...\n",
      " $ Nation : Factor w/ 15 levels \"Australia\",\"Brazil\",..: 15 4 9 6 14 5 7 8 2 3 ...\n",
      " $ GDP    : Factor w/ 15 levels \" 1,223,809 \",..: 13 8 15 14 12 11 10 9 7 6 ...\n"
     ]
    }
   ],
   "source": [
    "# for문을 이용한 factor 조정\n",
    "\n",
    "for(i in 2:ncol(GDP_ranking15)){\n",
    "    GDP_ranking15[,i] <- factor(GDP_ranking15[,i])\n",
    "}\n",
    "str(GDP_ranking15)"
   ]
  },
  {
   "cell_type": "code",
   "execution_count": 38,
   "metadata": {},
   "outputs": [
    {
     "data": {
      "text/html": [
       "<table>\n",
       "<thead><tr><th scope=col>Code</th><th scope=col>Ranking</th><th scope=col>Nation</th><th scope=col>GDP</th></tr></thead>\n",
       "<tbody>\n",
       "\t<tr><td>USA               </td><td>1                 </td><td>United States     </td><td> 20,494,100       </td></tr>\n",
       "\t<tr><td>CHN               </td><td>2                 </td><td>China             </td><td> 13,608,152       </td></tr>\n",
       "\t<tr><td>JPN               </td><td>3                 </td><td>Japan             </td><td> 4,970,916        </td></tr>\n",
       "\t<tr><td>DEU               </td><td>4                 </td><td>Germany           </td><td> 3,996,759        </td></tr>\n",
       "\t<tr><td>GBR               </td><td>5                 </td><td>United Kingdom    </td><td> 2,825,208        </td></tr>\n",
       "\t<tr><td>FRA               </td><td>6                 </td><td>France            </td><td> 2,777,535        </td></tr>\n",
       "\t<tr><td>IND               </td><td>7                 </td><td>India             </td><td> 2,726,323        </td></tr>\n",
       "\t<tr><td>ITA               </td><td>8                 </td><td>Italy             </td><td> 2,073,902        </td></tr>\n",
       "\t<tr><td>BRA               </td><td>9                 </td><td>Brazil            </td><td> 1,868,626        </td></tr>\n",
       "\t<tr><td>CAN               </td><td>10                </td><td>Canada            </td><td> 1,712,510        </td></tr>\n",
       "\t<tr><td>RUS               </td><td>11                </td><td>Russian Federation</td><td> 1,657,554        </td></tr>\n",
       "\t<tr><td>KOR               </td><td>12                </td><td>Korea, Rep.       </td><td> 1,619,424        </td></tr>\n",
       "\t<tr><td>AUS               </td><td>13                </td><td>Australia         </td><td> 1,432,195        </td></tr>\n",
       "\t<tr><td>ESP               </td><td>14                </td><td>Spain             </td><td> 1,426,189        </td></tr>\n",
       "\t<tr><td>MEX               </td><td>15                </td><td>Mexico            </td><td> 1,223,809        </td></tr>\n",
       "</tbody>\n",
       "</table>\n"
      ],
      "text/latex": [
       "\\begin{tabular}{r|llll}\n",
       " Code & Ranking & Nation & GDP\\\\\n",
       "\\hline\n",
       "\t USA                & 1                  & United States      &  20,494,100       \\\\\n",
       "\t CHN                & 2                  & China              &  13,608,152       \\\\\n",
       "\t JPN                & 3                  & Japan              &  4,970,916        \\\\\n",
       "\t DEU                & 4                  & Germany            &  3,996,759        \\\\\n",
       "\t GBR                & 5                  & United Kingdom     &  2,825,208        \\\\\n",
       "\t FRA                & 6                  & France             &  2,777,535        \\\\\n",
       "\t IND                & 7                  & India              &  2,726,323        \\\\\n",
       "\t ITA                & 8                  & Italy              &  2,073,902        \\\\\n",
       "\t BRA                & 9                  & Brazil             &  1,868,626        \\\\\n",
       "\t CAN                & 10                 & Canada             &  1,712,510        \\\\\n",
       "\t RUS                & 11                 & Russian Federation &  1,657,554        \\\\\n",
       "\t KOR                & 12                 & Korea, Rep.        &  1,619,424        \\\\\n",
       "\t AUS                & 13                 & Australia          &  1,432,195        \\\\\n",
       "\t ESP                & 14                 & Spain              &  1,426,189        \\\\\n",
       "\t MEX                & 15                 & Mexico             &  1,223,809        \\\\\n",
       "\\end{tabular}\n"
      ],
      "text/markdown": [
       "\n",
       "| Code | Ranking | Nation | GDP |\n",
       "|---|---|---|---|\n",
       "| USA                | 1                  | United States      |  20,494,100        |\n",
       "| CHN                | 2                  | China              |  13,608,152        |\n",
       "| JPN                | 3                  | Japan              |  4,970,916         |\n",
       "| DEU                | 4                  | Germany            |  3,996,759         |\n",
       "| GBR                | 5                  | United Kingdom     |  2,825,208         |\n",
       "| FRA                | 6                  | France             |  2,777,535         |\n",
       "| IND                | 7                  | India              |  2,726,323         |\n",
       "| ITA                | 8                  | Italy              |  2,073,902         |\n",
       "| BRA                | 9                  | Brazil             |  1,868,626         |\n",
       "| CAN                | 10                 | Canada             |  1,712,510         |\n",
       "| RUS                | 11                 | Russian Federation |  1,657,554         |\n",
       "| KOR                | 12                 | Korea, Rep.        |  1,619,424         |\n",
       "| AUS                | 13                 | Australia          |  1,432,195         |\n",
       "| ESP                | 14                 | Spain              |  1,426,189         |\n",
       "| MEX                | 15                 | Mexico             |  1,223,809         |\n",
       "\n"
      ],
      "text/plain": [
       "   Code Ranking Nation             GDP         \n",
       "1  USA  1       United States       20,494,100 \n",
       "2  CHN  2       China               13,608,152 \n",
       "3  JPN  3       Japan               4,970,916  \n",
       "4  DEU  4       Germany             3,996,759  \n",
       "5  GBR  5       United Kingdom      2,825,208  \n",
       "6  FRA  6       France              2,777,535  \n",
       "7  IND  7       India               2,726,323  \n",
       "8  ITA  8       Italy               2,073,902  \n",
       "9  BRA  9       Brazil              1,868,626  \n",
       "10 CAN  10      Canada              1,712,510  \n",
       "11 RUS  11      Russian Federation  1,657,554  \n",
       "12 KOR  12      Korea, Rep.         1,619,424  \n",
       "13 AUS  13      Australia           1,432,195  \n",
       "14 ESP  14      Spain               1,426,189  \n",
       "15 MEX  15      Mexico              1,223,809  "
      ]
     },
     "metadata": {},
     "output_type": "display_data"
    }
   ],
   "source": [
    "GDP_ranking15"
   ]
  },
  {
   "cell_type": "code",
   "execution_count": 39,
   "metadata": {},
   "outputs": [
    {
     "data": {
      "text/html": [
       "<ol class=list-inline>\n",
       "\t<li>13</li>\n",
       "\t<li>8</li>\n",
       "\t<li>15</li>\n",
       "\t<li>14</li>\n",
       "\t<li>12</li>\n",
       "\t<li>11</li>\n",
       "\t<li>10</li>\n",
       "\t<li>9</li>\n",
       "\t<li>7</li>\n",
       "\t<li>6</li>\n",
       "\t<li>5</li>\n",
       "\t<li>4</li>\n",
       "\t<li>3</li>\n",
       "\t<li>2</li>\n",
       "\t<li>1</li>\n",
       "</ol>\n"
      ],
      "text/latex": [
       "\\begin{enumerate*}\n",
       "\\item 13\n",
       "\\item 8\n",
       "\\item 15\n",
       "\\item 14\n",
       "\\item 12\n",
       "\\item 11\n",
       "\\item 10\n",
       "\\item 9\n",
       "\\item 7\n",
       "\\item 6\n",
       "\\item 5\n",
       "\\item 4\n",
       "\\item 3\n",
       "\\item 2\n",
       "\\item 1\n",
       "\\end{enumerate*}\n"
      ],
      "text/markdown": [
       "1. 13\n",
       "2. 8\n",
       "3. 15\n",
       "4. 14\n",
       "5. 12\n",
       "6. 11\n",
       "7. 10\n",
       "8. 9\n",
       "9. 7\n",
       "10. 6\n",
       "11. 5\n",
       "12. 4\n",
       "13. 3\n",
       "14. 2\n",
       "15. 1\n",
       "\n",
       "\n"
      ],
      "text/plain": [
       " [1] 13  8 15 14 12 11 10  9  7  6  5  4  3  2  1"
      ]
     },
     "metadata": {},
     "output_type": "display_data"
    },
    {
     "data": {
      "text/html": [
       "<ol class=list-inline>\n",
       "\t<li>' 20,494,100 '</li>\n",
       "\t<li>' 13,608,152 '</li>\n",
       "\t<li>' 4,970,916 '</li>\n",
       "\t<li>' 3,996,759 '</li>\n",
       "\t<li>' 2,825,208 '</li>\n",
       "\t<li>' 2,777,535 '</li>\n",
       "\t<li>' 2,726,323 '</li>\n",
       "\t<li>' 2,073,902 '</li>\n",
       "\t<li>' 1,868,626 '</li>\n",
       "\t<li>' 1,712,510 '</li>\n",
       "\t<li>' 1,657,554 '</li>\n",
       "\t<li>' 1,619,424 '</li>\n",
       "\t<li>' 1,432,195 '</li>\n",
       "\t<li>' 1,426,189 '</li>\n",
       "\t<li>' 1,223,809 '</li>\n",
       "</ol>\n"
      ],
      "text/latex": [
       "\\begin{enumerate*}\n",
       "\\item ' 20,494,100 '\n",
       "\\item ' 13,608,152 '\n",
       "\\item ' 4,970,916 '\n",
       "\\item ' 3,996,759 '\n",
       "\\item ' 2,825,208 '\n",
       "\\item ' 2,777,535 '\n",
       "\\item ' 2,726,323 '\n",
       "\\item ' 2,073,902 '\n",
       "\\item ' 1,868,626 '\n",
       "\\item ' 1,712,510 '\n",
       "\\item ' 1,657,554 '\n",
       "\\item ' 1,619,424 '\n",
       "\\item ' 1,432,195 '\n",
       "\\item ' 1,426,189 '\n",
       "\\item ' 1,223,809 '\n",
       "\\end{enumerate*}\n"
      ],
      "text/markdown": [
       "1. ' 20,494,100 '\n",
       "2. ' 13,608,152 '\n",
       "3. ' 4,970,916 '\n",
       "4. ' 3,996,759 '\n",
       "5. ' 2,825,208 '\n",
       "6. ' 2,777,535 '\n",
       "7. ' 2,726,323 '\n",
       "8. ' 2,073,902 '\n",
       "9. ' 1,868,626 '\n",
       "10. ' 1,712,510 '\n",
       "11. ' 1,657,554 '\n",
       "12. ' 1,619,424 '\n",
       "13. ' 1,432,195 '\n",
       "14. ' 1,426,189 '\n",
       "15. ' 1,223,809 '\n",
       "\n",
       "\n"
      ],
      "text/plain": [
       " [1] \" 20,494,100 \" \" 13,608,152 \" \" 4,970,916 \"  \" 3,996,759 \"  \" 2,825,208 \" \n",
       " [6] \" 2,777,535 \"  \" 2,726,323 \"  \" 2,073,902 \"  \" 1,868,626 \"  \" 1,712,510 \" \n",
       "[11] \" 1,657,554 \"  \" 1,619,424 \"  \" 1,432,195 \"  \" 1,426,189 \"  \" 1,223,809 \" "
      ]
     },
     "metadata": {},
     "output_type": "display_data"
    }
   ],
   "source": [
    "# GDP의 factor를 숫자로 변경하기\n",
    "gdp <- GDP_ranking15$GDP\n",
    "as.numeric(gdp) # factor에서 numeric으로 변경하면 X!!\n",
    "as.character(gdp)"
   ]
  },
  {
   "cell_type": "code",
   "execution_count": 40,
   "metadata": {},
   "outputs": [
    {
     "name": "stderr",
     "output_type": "stream",
     "text": [
      "\n",
      "Attaching package: ‘stringr’\n",
      "\n",
      "The following object is masked _by_ ‘.GlobalEnv’:\n",
      "\n",
      "    fruit\n",
      "\n"
     ]
    }
   ],
   "source": [
    "# stringr 사용해 숫자로 변환\n",
    "\n",
    "library(stringr)"
   ]
  },
  {
   "cell_type": "code",
   "execution_count": 41,
   "metadata": {},
   "outputs": [],
   "source": [
    "num_gdp <- as.numeric(str_replace_all(gdp,\",\",\"\"))"
   ]
  },
  {
   "cell_type": "code",
   "execution_count": 42,
   "metadata": {},
   "outputs": [
    {
     "data": {
      "text/html": [
       "<table>\n",
       "<thead><tr><th scope=col>Code</th><th scope=col>Ranking</th><th scope=col>Nation</th><th scope=col>GDP</th></tr></thead>\n",
       "<tbody>\n",
       "\t<tr><td>USA           </td><td>1             </td><td>United States </td><td>20494100      </td></tr>\n",
       "\t<tr><td>CHN           </td><td>2             </td><td>China         </td><td>13608152      </td></tr>\n",
       "\t<tr><td>JPN           </td><td>3             </td><td>Japan         </td><td> 4970916      </td></tr>\n",
       "\t<tr><td>DEU           </td><td>4             </td><td>Germany       </td><td> 3996759      </td></tr>\n",
       "\t<tr><td>GBR           </td><td>5             </td><td>United Kingdom</td><td> 2825208      </td></tr>\n",
       "\t<tr><td>FRA           </td><td>6             </td><td>France        </td><td> 2777535      </td></tr>\n",
       "</tbody>\n",
       "</table>\n"
      ],
      "text/latex": [
       "\\begin{tabular}{r|llll}\n",
       " Code & Ranking & Nation & GDP\\\\\n",
       "\\hline\n",
       "\t USA            & 1              & United States  & 20494100      \\\\\n",
       "\t CHN            & 2              & China          & 13608152      \\\\\n",
       "\t JPN            & 3              & Japan          &  4970916      \\\\\n",
       "\t DEU            & 4              & Germany        &  3996759      \\\\\n",
       "\t GBR            & 5              & United Kingdom &  2825208      \\\\\n",
       "\t FRA            & 6              & France         &  2777535      \\\\\n",
       "\\end{tabular}\n"
      ],
      "text/markdown": [
       "\n",
       "| Code | Ranking | Nation | GDP |\n",
       "|---|---|---|---|\n",
       "| USA            | 1              | United States  | 20494100       |\n",
       "| CHN            | 2              | China          | 13608152       |\n",
       "| JPN            | 3              | Japan          |  4970916       |\n",
       "| DEU            | 4              | Germany        |  3996759       |\n",
       "| GBR            | 5              | United Kingdom |  2825208       |\n",
       "| FRA            | 6              | France         |  2777535       |\n",
       "\n"
      ],
      "text/plain": [
       "  Code Ranking Nation         GDP     \n",
       "1 USA  1       United States  20494100\n",
       "2 CHN  2       China          13608152\n",
       "3 JPN  3       Japan           4970916\n",
       "4 DEU  4       Germany         3996759\n",
       "5 GBR  5       United Kingdom  2825208\n",
       "6 FRA  6       France          2777535"
      ]
     },
     "metadata": {},
     "output_type": "display_data"
    }
   ],
   "source": [
    "GDP_ranking15$GDP <- num_gdp\n",
    "head(GDP_ranking15)"
   ]
  },
  {
   "cell_type": "code",
   "execution_count": 43,
   "metadata": {},
   "outputs": [
    {
     "name": "stdout",
     "output_type": "stream",
     "text": [
      "'data.frame':\t15 obs. of  4 variables:\n",
      " $ Code   : Factor w/ 15 levels \"AUS\",\"BRA\",\"CAN\",..: 15 4 11 5 8 7 9 10 2 3 ...\n",
      " $ Ranking: Factor w/ 15 levels \"1\",\"10\",\"11\",..: 1 8 9 10 11 12 13 14 15 2 ...\n",
      " $ Nation : Factor w/ 15 levels \"Australia\",\"Brazil\",..: 15 4 9 6 14 5 7 8 2 3 ...\n",
      " $ GDP    : num  20494100 13608152 4970916 3996759 2825208 ...\n"
     ]
    }
   ],
   "source": [
    "str(GDP_ranking15)"
   ]
  },
  {
   "cell_type": "code",
   "execution_count": 46,
   "metadata": {},
   "outputs": [
    {
     "data": {
      "image/png": "[encoded data removed]",
      "text/plain": [
       "Plot with title “2018년 GDP 세계 15위 국가”"
      ]
     },
     "metadata": {},
     "output_type": "display_data"
    }
   ],
   "source": [
    "# for mac (window는 그냥 된다.) \n",
    "options(warn = -1) # 워링 메시지 지우는 방법임.\n",
    "par(family = \"AppleGothic\")\n",
    "\n",
    "# 막대그래프 시각화\n",
    "barplot(GDP_ranking15$GDP / 1000, # GDP 상위 15개국\n",
    "       #col = c(\"red\",\"blue\",\"green\") #color\n",
    "        #col = rainbow(nrow(GDP_ranking15)),\n",
    "        \n",
    "        col = c(\"red\",\"red\",rep(\"blue\",13)),\n",
    "        xlab = \"국가(Nation)\", # x축 이름\n",
    "        ylab = \"단위(달러)\", # y축 이름\n",
    "        main = \"2018년 GDP 세계 15위 국가\", # main title\n",
    "        names = GDP_ranking15$Code,\n",
    "        cex.names = 0.7\n",
    "       )"
   ]
  },
  {
   "cell_type": "code",
   "execution_count": null,
   "metadata": {},
   "outputs": [],
   "source": []
  }
 ],
 "metadata": {
  "kernelspec": {
   "display_name": "R",
   "language": "R",
   "name": "ir"
  },
  "language_info": {
   "codemirror_mode": "r",
   "file_extension": ".r",
   "mimetype": "text/x-r-source",
   "name": "R",
   "pygments_lexer": "r",
   "version": "3.6.1"
  }
 },
 "nbformat": 4,
 "nbformat_minor": 4
}
