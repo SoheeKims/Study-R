{
 "cells": [
  {
   "cell_type": "markdown",
   "metadata": {},
   "source": [
    "# 변수와 자료형\n",
    "## 변수\n",
    "분석에 필요한 자료를 일시적으로 저장하거나 처리결과를 담을 수 있는    \n",
    "기억장소를 지정해주는 역할임.   \n",
    "변수 이름은 값을 지정하는 메모리 영역의 이름으로 할당.   \n",
    "(1) 변수 이름의 작성 규칙\n",
    "- 첫자는 영문으로 시작\n",
    "- 첫자를 제외하고 숫자, under bar, dot를 사용할 수 있음.\n",
    "- 대문자와 소문자를 구분\n",
    "- 변수 이름은 의미를 파악할 수 있는 이름으로 지정하는 것이 좋음.\n",
    "- 두 단어를 포함한 변수 이름을 지정할 경우 두번째 단어는 대문자로 표시하거나(Camel)   \n",
    "under bar(Snake)로 표시하는 것이 좋음."
   ]
  },
  {
   "cell_type": "code",
   "execution_count": 6,
   "metadata": {},
   "outputs": [
    {
     "data": {
      "text/html": [
       "'Apple'"
      ],
      "text/latex": [
       "'Apple'"
      ],
      "text/markdown": [
       "'Apple'"
      ],
      "text/plain": [
       "[1] \"Apple\""
      ]
     },
     "metadata": {},
     "output_type": "display_data"
    }
   ],
   "source": [
    "# 변수에는 최근 값이 저장된다.\n",
    "\n",
    "var1 <- 0\n",
    "var1 = 0\n",
    "var1 <- 1\n",
    "var1 <- \"Apple\"\n",
    "\n",
    "var1"
   ]
  },
  {
   "cell_type": "code",
   "execution_count": 13,
   "metadata": {},
   "outputs": [
    {
     "data": {
      "text/html": [
       "30"
      ],
      "text/latex": [
       "30"
      ],
      "text/markdown": [
       "30"
      ],
      "text/plain": [
       "[1] 30"
      ]
     },
     "metadata": {},
     "output_type": "display_data"
    },
    {
     "data": {
      "text/html": [
       "-10"
      ],
      "text/latex": [
       "-10"
      ],
      "text/markdown": [
       "-10"
      ],
      "text/plain": [
       "[1] -10"
      ]
     },
     "metadata": {},
     "output_type": "display_data"
    },
    {
     "data": {
      "text/html": [
       "200"
      ],
      "text/latex": [
       "200"
      ],
      "text/markdown": [
       "200"
      ],
      "text/plain": [
       "[1] 200"
      ]
     },
     "metadata": {},
     "output_type": "display_data"
    },
    {
     "data": {
      "text/html": [
       "0.5"
      ],
      "text/latex": [
       "0.5"
      ],
      "text/markdown": [
       "0.5"
      ],
      "text/plain": [
       "[1] 0.5"
      ]
     },
     "metadata": {},
     "output_type": "display_data"
    }
   ],
   "source": [
    "# 변수를 이용한 계산\n",
    "\n",
    "var1 <- 10 # scalar 변수\n",
    "var2 <- 20\n",
    "\n",
    "var1 + var2\n",
    "var1 - var2\n",
    "var1 * var2\n",
    "var1 / var2"
   ]
  },
  {
   "cell_type": "code",
   "execution_count": 14,
   "metadata": {},
   "outputs": [
    {
     "data": {
      "text/html": [
       "22"
      ],
      "text/latex": [
       "22"
      ],
      "text/markdown": [
       "22"
      ],
      "text/plain": [
       "[1] 22"
      ]
     },
     "metadata": {},
     "output_type": "display_data"
    }
   ],
   "source": [
    "# 변수의 재활용\n",
    "\n",
    "var1 <- var1 + 12\n",
    "var1"
   ]
  },
  {
   "cell_type": "code",
   "execution_count": 18,
   "metadata": {},
   "outputs": [
    {
     "data": {
      "text/html": [
       "<table>\n",
       "<thead><tr><th scope=col>Sepal.Length</th><th scope=col>Sepal.Width</th><th scope=col>Petal.Length</th><th scope=col>Petal.Width</th><th scope=col>Species</th></tr></thead>\n",
       "<tbody>\n",
       "\t<tr><td>5.1   </td><td>3.5   </td><td>1.4   </td><td>0.2   </td><td>setosa</td></tr>\n",
       "\t<tr><td>4.9   </td><td>3.0   </td><td>1.4   </td><td>0.2   </td><td>setosa</td></tr>\n",
       "\t<tr><td>4.7   </td><td>3.2   </td><td>1.3   </td><td>0.2   </td><td>setosa</td></tr>\n",
       "\t<tr><td>4.6   </td><td>3.1   </td><td>1.5   </td><td>0.2   </td><td>setosa</td></tr>\n",
       "\t<tr><td>5.0   </td><td>3.6   </td><td>1.4   </td><td>0.2   </td><td>setosa</td></tr>\n",
       "\t<tr><td>5.4   </td><td>3.9   </td><td>1.7   </td><td>0.4   </td><td>setosa</td></tr>\n",
       "</tbody>\n",
       "</table>\n"
      ],
      "text/latex": [
       "\\begin{tabular}{r|lllll}\n",
       " Sepal.Length & Sepal.Width & Petal.Length & Petal.Width & Species\\\\\n",
       "\\hline\n",
       "\t 5.1    & 3.5    & 1.4    & 0.2    & setosa\\\\\n",
       "\t 4.9    & 3.0    & 1.4    & 0.2    & setosa\\\\\n",
       "\t 4.7    & 3.2    & 1.3    & 0.2    & setosa\\\\\n",
       "\t 4.6    & 3.1    & 1.5    & 0.2    & setosa\\\\\n",
       "\t 5.0    & 3.6    & 1.4    & 0.2    & setosa\\\\\n",
       "\t 5.4    & 3.9    & 1.7    & 0.4    & setosa\\\\\n",
       "\\end{tabular}\n"
      ],
      "text/markdown": [
       "\n",
       "| Sepal.Length | Sepal.Width | Petal.Length | Petal.Width | Species |\n",
       "|---|---|---|---|---|\n",
       "| 5.1    | 3.5    | 1.4    | 0.2    | setosa |\n",
       "| 4.9    | 3.0    | 1.4    | 0.2    | setosa |\n",
       "| 4.7    | 3.2    | 1.3    | 0.2    | setosa |\n",
       "| 4.6    | 3.1    | 1.5    | 0.2    | setosa |\n",
       "| 5.0    | 3.6    | 1.4    | 0.2    | setosa |\n",
       "| 5.4    | 3.9    | 1.7    | 0.4    | setosa |\n",
       "\n"
      ],
      "text/plain": [
       "  Sepal.Length Sepal.Width Petal.Length Petal.Width Species\n",
       "1 5.1          3.5         1.4          0.2         setosa \n",
       "2 4.9          3.0         1.4          0.2         setosa \n",
       "3 4.7          3.2         1.3          0.2         setosa \n",
       "4 4.6          3.1         1.5          0.2         setosa \n",
       "5 5.0          3.6         1.4          0.2         setosa \n",
       "6 5.4          3.9         1.7          0.4         setosa "
      ]
     },
     "metadata": {},
     "output_type": "display_data"
    },
    {
     "data": {
      "text/html": [
       "<ol class=list-inline>\n",
       "\t<li>5.1</li>\n",
       "\t<li>4.9</li>\n",
       "\t<li>4.7</li>\n",
       "\t<li>4.6</li>\n",
       "\t<li>5</li>\n",
       "\t<li>5.4</li>\n",
       "\t<li>4.6</li>\n",
       "\t<li>5</li>\n",
       "\t<li>4.4</li>\n",
       "\t<li>4.9</li>\n",
       "\t<li>5.4</li>\n",
       "\t<li>4.8</li>\n",
       "\t<li>4.8</li>\n",
       "\t<li>4.3</li>\n",
       "\t<li>5.8</li>\n",
       "\t<li>5.7</li>\n",
       "\t<li>5.4</li>\n",
       "\t<li>5.1</li>\n",
       "\t<li>5.7</li>\n",
       "\t<li>5.1</li>\n",
       "\t<li>5.4</li>\n",
       "\t<li>5.1</li>\n",
       "\t<li>4.6</li>\n",
       "\t<li>5.1</li>\n",
       "\t<li>4.8</li>\n",
       "\t<li>5</li>\n",
       "\t<li>5</li>\n",
       "\t<li>5.2</li>\n",
       "\t<li>5.2</li>\n",
       "\t<li>4.7</li>\n",
       "\t<li>4.8</li>\n",
       "\t<li>5.4</li>\n",
       "\t<li>5.2</li>\n",
       "\t<li>5.5</li>\n",
       "\t<li>4.9</li>\n",
       "\t<li>5</li>\n",
       "\t<li>5.5</li>\n",
       "\t<li>4.9</li>\n",
       "\t<li>4.4</li>\n",
       "\t<li>5.1</li>\n",
       "\t<li>5</li>\n",
       "\t<li>4.5</li>\n",
       "\t<li>4.4</li>\n",
       "\t<li>5</li>\n",
       "\t<li>5.1</li>\n",
       "\t<li>4.8</li>\n",
       "\t<li>5.1</li>\n",
       "\t<li>4.6</li>\n",
       "\t<li>5.3</li>\n",
       "\t<li>5</li>\n",
       "\t<li>7</li>\n",
       "\t<li>6.4</li>\n",
       "\t<li>6.9</li>\n",
       "\t<li>5.5</li>\n",
       "\t<li>6.5</li>\n",
       "\t<li>5.7</li>\n",
       "\t<li>6.3</li>\n",
       "\t<li>4.9</li>\n",
       "\t<li>6.6</li>\n",
       "\t<li>5.2</li>\n",
       "\t<li>5</li>\n",
       "\t<li>5.9</li>\n",
       "\t<li>6</li>\n",
       "\t<li>6.1</li>\n",
       "\t<li>5.6</li>\n",
       "\t<li>6.7</li>\n",
       "\t<li>5.6</li>\n",
       "\t<li>5.8</li>\n",
       "\t<li>6.2</li>\n",
       "\t<li>5.6</li>\n",
       "\t<li>5.9</li>\n",
       "\t<li>6.1</li>\n",
       "\t<li>6.3</li>\n",
       "\t<li>6.1</li>\n",
       "\t<li>6.4</li>\n",
       "\t<li>6.6</li>\n",
       "\t<li>6.8</li>\n",
       "\t<li>6.7</li>\n",
       "\t<li>6</li>\n",
       "\t<li>5.7</li>\n",
       "\t<li>5.5</li>\n",
       "\t<li>5.5</li>\n",
       "\t<li>5.8</li>\n",
       "\t<li>6</li>\n",
       "\t<li>5.4</li>\n",
       "\t<li>6</li>\n",
       "\t<li>6.7</li>\n",
       "\t<li>6.3</li>\n",
       "\t<li>5.6</li>\n",
       "\t<li>5.5</li>\n",
       "\t<li>5.5</li>\n",
       "\t<li>6.1</li>\n",
       "\t<li>5.8</li>\n",
       "\t<li>5</li>\n",
       "\t<li>5.6</li>\n",
       "\t<li>5.7</li>\n",
       "\t<li>5.7</li>\n",
       "\t<li>6.2</li>\n",
       "\t<li>5.1</li>\n",
       "\t<li>5.7</li>\n",
       "\t<li>6.3</li>\n",
       "\t<li>5.8</li>\n",
       "\t<li>7.1</li>\n",
       "\t<li>6.3</li>\n",
       "\t<li>6.5</li>\n",
       "\t<li>7.6</li>\n",
       "\t<li>4.9</li>\n",
       "\t<li>7.3</li>\n",
       "\t<li>6.7</li>\n",
       "\t<li>7.2</li>\n",
       "\t<li>6.5</li>\n",
       "\t<li>6.4</li>\n",
       "\t<li>6.8</li>\n",
       "\t<li>5.7</li>\n",
       "\t<li>5.8</li>\n",
       "\t<li>6.4</li>\n",
       "\t<li>6.5</li>\n",
       "\t<li>7.7</li>\n",
       "\t<li>7.7</li>\n",
       "\t<li>6</li>\n",
       "\t<li>6.9</li>\n",
       "\t<li>5.6</li>\n",
       "\t<li>7.7</li>\n",
       "\t<li>6.3</li>\n",
       "\t<li>6.7</li>\n",
       "\t<li>7.2</li>\n",
       "\t<li>6.2</li>\n",
       "\t<li>6.1</li>\n",
       "\t<li>6.4</li>\n",
       "\t<li>7.2</li>\n",
       "\t<li>7.4</li>\n",
       "\t<li>7.9</li>\n",
       "\t<li>6.4</li>\n",
       "\t<li>6.3</li>\n",
       "\t<li>6.1</li>\n",
       "\t<li>7.7</li>\n",
       "\t<li>6.3</li>\n",
       "\t<li>6.4</li>\n",
       "\t<li>6</li>\n",
       "\t<li>6.9</li>\n",
       "\t<li>6.7</li>\n",
       "\t<li>6.9</li>\n",
       "\t<li>5.8</li>\n",
       "\t<li>6.8</li>\n",
       "\t<li>6.7</li>\n",
       "\t<li>6.7</li>\n",
       "\t<li>6.3</li>\n",
       "\t<li>6.5</li>\n",
       "\t<li>6.2</li>\n",
       "\t<li>5.9</li>\n",
       "</ol>\n"
      ],
      "text/latex": [
       "\\begin{enumerate*}\n",
       "\\item 5.1\n",
       "\\item 4.9\n",
       "\\item 4.7\n",
       "\\item 4.6\n",
       "\\item 5\n",
       "\\item 5.4\n",
       "\\item 4.6\n",
       "\\item 5\n",
       "\\item 4.4\n",
       "\\item 4.9\n",
       "\\item 5.4\n",
       "\\item 4.8\n",
       "\\item 4.8\n",
       "\\item 4.3\n",
       "\\item 5.8\n",
       "\\item 5.7\n",
       "\\item 5.4\n",
       "\\item 5.1\n",
       "\\item 5.7\n",
       "\\item 5.1\n",
       "\\item 5.4\n",
       "\\item 5.1\n",
       "\\item 4.6\n",
       "\\item 5.1\n",
       "\\item 4.8\n",
       "\\item 5\n",
       "\\item 5\n",
       "\\item 5.2\n",
       "\\item 5.2\n",
       "\\item 4.7\n",
       "\\item 4.8\n",
       "\\item 5.4\n",
       "\\item 5.2\n",
       "\\item 5.5\n",
       "\\item 4.9\n",
       "\\item 5\n",
       "\\item 5.5\n",
       "\\item 4.9\n",
       "\\item 4.4\n",
       "\\item 5.1\n",
       "\\item 5\n",
       "\\item 4.5\n",
       "\\item 4.4\n",
       "\\item 5\n",
       "\\item 5.1\n",
       "\\item 4.8\n",
       "\\item 5.1\n",
       "\\item 4.6\n",
       "\\item 5.3\n",
       "\\item 5\n",
       "\\item 7\n",
       "\\item 6.4\n",
       "\\item 6.9\n",
       "\\item 5.5\n",
       "\\item 6.5\n",
       "\\item 5.7\n",
       "\\item 6.3\n",
       "\\item 4.9\n",
       "\\item 6.6\n",
       "\\item 5.2\n",
       "\\item 5\n",
       "\\item 5.9\n",
       "\\item 6\n",
       "\\item 6.1\n",
       "\\item 5.6\n",
       "\\item 6.7\n",
       "\\item 5.6\n",
       "\\item 5.8\n",
       "\\item 6.2\n",
       "\\item 5.6\n",
       "\\item 5.9\n",
       "\\item 6.1\n",
       "\\item 6.3\n",
       "\\item 6.1\n",
       "\\item 6.4\n",
       "\\item 6.6\n",
       "\\item 6.8\n",
       "\\item 6.7\n",
       "\\item 6\n",
       "\\item 5.7\n",
       "\\item 5.5\n",
       "\\item 5.5\n",
       "\\item 5.8\n",
       "\\item 6\n",
       "\\item 5.4\n",
       "\\item 6\n",
       "\\item 6.7\n",
       "\\item 6.3\n",
       "\\item 5.6\n",
       "\\item 5.5\n",
       "\\item 5.5\n",
       "\\item 6.1\n",
       "\\item 5.8\n",
       "\\item 5\n",
       "\\item 5.6\n",
       "\\item 5.7\n",
       "\\item 5.7\n",
       "\\item 6.2\n",
       "\\item 5.1\n",
       "\\item 5.7\n",
       "\\item 6.3\n",
       "\\item 5.8\n",
       "\\item 7.1\n",
       "\\item 6.3\n",
       "\\item 6.5\n",
       "\\item 7.6\n",
       "\\item 4.9\n",
       "\\item 7.3\n",
       "\\item 6.7\n",
       "\\item 7.2\n",
       "\\item 6.5\n",
       "\\item 6.4\n",
       "\\item 6.8\n",
       "\\item 5.7\n",
       "\\item 5.8\n",
       "\\item 6.4\n",
       "\\item 6.5\n",
       "\\item 7.7\n",
       "\\item 7.7\n",
       "\\item 6\n",
       "\\item 6.9\n",
       "\\item 5.6\n",
       "\\item 7.7\n",
       "\\item 6.3\n",
       "\\item 6.7\n",
       "\\item 7.2\n",
       "\\item 6.2\n",
       "\\item 6.1\n",
       "\\item 6.4\n",
       "\\item 7.2\n",
       "\\item 7.4\n",
       "\\item 7.9\n",
       "\\item 6.4\n",
       "\\item 6.3\n",
       "\\item 6.1\n",
       "\\item 7.7\n",
       "\\item 6.3\n",
       "\\item 6.4\n",
       "\\item 6\n",
       "\\item 6.9\n",
       "\\item 6.7\n",
       "\\item 6.9\n",
       "\\item 5.8\n",
       "\\item 6.8\n",
       "\\item 6.7\n",
       "\\item 6.7\n",
       "\\item 6.3\n",
       "\\item 6.5\n",
       "\\item 6.2\n",
       "\\item 5.9\n",
       "\\end{enumerate*}\n"
      ],
      "text/markdown": [
       "1. 5.1\n",
       "2. 4.9\n",
       "3. 4.7\n",
       "4. 4.6\n",
       "5. 5\n",
       "6. 5.4\n",
       "7. 4.6\n",
       "8. 5\n",
       "9. 4.4\n",
       "10. 4.9\n",
       "11. 5.4\n",
       "12. 4.8\n",
       "13. 4.8\n",
       "14. 4.3\n",
       "15. 5.8\n",
       "16. 5.7\n",
       "17. 5.4\n",
       "18. 5.1\n",
       "19. 5.7\n",
       "20. 5.1\n",
       "21. 5.4\n",
       "22. 5.1\n",
       "23. 4.6\n",
       "24. 5.1\n",
       "25. 4.8\n",
       "26. 5\n",
       "27. 5\n",
       "28. 5.2\n",
       "29. 5.2\n",
       "30. 4.7\n",
       "31. 4.8\n",
       "32. 5.4\n",
       "33. 5.2\n",
       "34. 5.5\n",
       "35. 4.9\n",
       "36. 5\n",
       "37. 5.5\n",
       "38. 4.9\n",
       "39. 4.4\n",
       "40. 5.1\n",
       "41. 5\n",
       "42. 4.5\n",
       "43. 4.4\n",
       "44. 5\n",
       "45. 5.1\n",
       "46. 4.8\n",
       "47. 5.1\n",
       "48. 4.6\n",
       "49. 5.3\n",
       "50. 5\n",
       "51. 7\n",
       "52. 6.4\n",
       "53. 6.9\n",
       "54. 5.5\n",
       "55. 6.5\n",
       "56. 5.7\n",
       "57. 6.3\n",
       "58. 4.9\n",
       "59. 6.6\n",
       "60. 5.2\n",
       "61. 5\n",
       "62. 5.9\n",
       "63. 6\n",
       "64. 6.1\n",
       "65. 5.6\n",
       "66. 6.7\n",
       "67. 5.6\n",
       "68. 5.8\n",
       "69. 6.2\n",
       "70. 5.6\n",
       "71. 5.9\n",
       "72. 6.1\n",
       "73. 6.3\n",
       "74. 6.1\n",
       "75. 6.4\n",
       "76. 6.6\n",
       "77. 6.8\n",
       "78. 6.7\n",
       "79. 6\n",
       "80. 5.7\n",
       "81. 5.5\n",
       "82. 5.5\n",
       "83. 5.8\n",
       "84. 6\n",
       "85. 5.4\n",
       "86. 6\n",
       "87. 6.7\n",
       "88. 6.3\n",
       "89. 5.6\n",
       "90. 5.5\n",
       "91. 5.5\n",
       "92. 6.1\n",
       "93. 5.8\n",
       "94. 5\n",
       "95. 5.6\n",
       "96. 5.7\n",
       "97. 5.7\n",
       "98. 6.2\n",
       "99. 5.1\n",
       "100. 5.7\n",
       "101. 6.3\n",
       "102. 5.8\n",
       "103. 7.1\n",
       "104. 6.3\n",
       "105. 6.5\n",
       "106. 7.6\n",
       "107. 4.9\n",
       "108. 7.3\n",
       "109. 6.7\n",
       "110. 7.2\n",
       "111. 6.5\n",
       "112. 6.4\n",
       "113. 6.8\n",
       "114. 5.7\n",
       "115. 5.8\n",
       "116. 6.4\n",
       "117. 6.5\n",
       "118. 7.7\n",
       "119. 7.7\n",
       "120. 6\n",
       "121. 6.9\n",
       "122. 5.6\n",
       "123. 7.7\n",
       "124. 6.3\n",
       "125. 6.7\n",
       "126. 7.2\n",
       "127. 6.2\n",
       "128. 6.1\n",
       "129. 6.4\n",
       "130. 7.2\n",
       "131. 7.4\n",
       "132. 7.9\n",
       "133. 6.4\n",
       "134. 6.3\n",
       "135. 6.1\n",
       "136. 7.7\n",
       "137. 6.3\n",
       "138. 6.4\n",
       "139. 6\n",
       "140. 6.9\n",
       "141. 6.7\n",
       "142. 6.9\n",
       "143. 5.8\n",
       "144. 6.8\n",
       "145. 6.7\n",
       "146. 6.7\n",
       "147. 6.3\n",
       "148. 6.5\n",
       "149. 6.2\n",
       "150. 5.9\n",
       "\n",
       "\n"
      ],
      "text/plain": [
       "  [1] 5.1 4.9 4.7 4.6 5.0 5.4 4.6 5.0 4.4 4.9 5.4 4.8 4.8 4.3 5.8 5.7 5.4 5.1\n",
       " [19] 5.7 5.1 5.4 5.1 4.6 5.1 4.8 5.0 5.0 5.2 5.2 4.7 4.8 5.4 5.2 5.5 4.9 5.0\n",
       " [37] 5.5 4.9 4.4 5.1 5.0 4.5 4.4 5.0 5.1 4.8 5.1 4.6 5.3 5.0 7.0 6.4 6.9 5.5\n",
       " [55] 6.5 5.7 6.3 4.9 6.6 5.2 5.0 5.9 6.0 6.1 5.6 6.7 5.6 5.8 6.2 5.6 5.9 6.1\n",
       " [73] 6.3 6.1 6.4 6.6 6.8 6.7 6.0 5.7 5.5 5.5 5.8 6.0 5.4 6.0 6.7 6.3 5.6 5.5\n",
       " [91] 5.5 6.1 5.8 5.0 5.6 5.7 5.7 6.2 5.1 5.7 6.3 5.8 7.1 6.3 6.5 7.6 4.9 7.3\n",
       "[109] 6.7 7.2 6.5 6.4 6.8 5.7 5.8 6.4 6.5 7.7 7.7 6.0 6.9 5.6 7.7 6.3 6.7 7.2\n",
       "[127] 6.2 6.1 6.4 7.2 7.4 7.9 6.4 6.3 6.1 7.7 6.3 6.4 6.0 6.9 6.7 6.9 5.8 6.8\n",
       "[145] 6.7 6.7 6.3 6.5 6.2 5.9"
      ]
     },
     "metadata": {},
     "output_type": "display_data"
    },
    {
     "data": {
      "text/html": [
       "876.5"
      ],
      "text/latex": [
       "876.5"
      ],
      "text/markdown": [
       "876.5"
      ],
      "text/plain": [
       "[1] 876.5"
      ]
     },
     "metadata": {},
     "output_type": "display_data"
    },
    {
     "data": {
      "text/html": [
       "458.6"
      ],
      "text/latex": [
       "458.6"
      ],
      "text/markdown": [
       "458.6"
      ],
      "text/plain": [
       "[1] 458.6"
      ]
     },
     "metadata": {},
     "output_type": "display_data"
    }
   ],
   "source": [
    "# 벡터 변수와 함수 사용하기\n",
    "\n",
    "head(iris)\n",
    "iris$Sepal.Length\n",
    "sum(iris$Sepal.Length)\n",
    "sum(iris$Sepal.Width)"
   ]
  },
  {
   "cell_type": "code",
   "execution_count": 22,
   "metadata": {},
   "outputs": [
    {
     "data": {
      "text/html": [
       "48.6"
      ],
      "text/latex": [
       "48.6"
      ],
      "text/markdown": [
       "48.6"
      ],
      "text/plain": [
       "[1] 48.6"
      ]
     },
     "metadata": {},
     "output_type": "display_data"
    }
   ],
   "source": [
    "sum(iris$Sepal.Length[1:10])"
   ]
  },
  {
   "cell_type": "code",
   "execution_count": 23,
   "metadata": {},
   "outputs": [
    {
     "data": {
      "text/html": [
       "100"
      ],
      "text/latex": [
       "100"
      ],
      "text/markdown": [
       "100"
      ],
      "text/plain": [
       "[1] 100"
      ]
     },
     "metadata": {},
     "output_type": "display_data"
    }
   ],
   "source": [
    "sum(10, 20, 30, 40)"
   ]
  },
  {
   "cell_type": "code",
   "execution_count": 30,
   "metadata": {},
   "outputs": [
    {
     "data": {
      "text/html": [
       "<ol class=list-inline>\n",
       "\t<li>10</li>\n",
       "\t<li>20</li>\n",
       "\t<li>30</li>\n",
       "</ol>\n"
      ],
      "text/latex": [
       "\\begin{enumerate*}\n",
       "\\item 10\n",
       "\\item 20\n",
       "\\item 30\n",
       "\\end{enumerate*}\n"
      ],
      "text/markdown": [
       "1. 10\n",
       "2. 20\n",
       "3. 30\n",
       "\n",
       "\n"
      ],
      "text/plain": [
       "[1] 10 20 30"
      ]
     },
     "metadata": {},
     "output_type": "display_data"
    },
    {
     "data": {
      "text/html": [
       "10"
      ],
      "text/latex": [
       "10"
      ],
      "text/markdown": [
       "10"
      ],
      "text/plain": [
       "[1] 10"
      ]
     },
     "metadata": {},
     "output_type": "display_data"
    },
    {
     "data": {
      "text/html": [
       "30"
      ],
      "text/latex": [
       "30"
      ],
      "text/markdown": [
       "30"
      ],
      "text/plain": [
       "[1] 30"
      ]
     },
     "metadata": {},
     "output_type": "display_data"
    },
    {
     "data": {
      "text/html": [
       "60"
      ],
      "text/latex": [
       "60"
      ],
      "text/markdown": [
       "60"
      ],
      "text/plain": [
       "[1] 60"
      ]
     },
     "metadata": {},
     "output_type": "display_data"
    }
   ],
   "source": [
    "# 벡터 변수의 사용\n",
    "\n",
    "num1 <- c(10, 20, 30)\n",
    "num1\n",
    "num1[1]\n",
    "num1[1] + num1[2]\n",
    "sum(num1)"
   ]
  },
  {
   "cell_type": "code",
   "execution_count": 35,
   "metadata": {},
   "outputs": [
    {
     "data": {
      "text/html": [
       "&lt;NA&gt;"
      ],
      "text/latex": [
       "<NA>"
      ],
      "text/markdown": [
       "&lt;NA&gt;"
      ],
      "text/plain": [
       "[1] NA"
      ]
     },
     "metadata": {},
     "output_type": "display_data"
    },
    {
     "data": {
      "text/html": [
       "60"
      ],
      "text/latex": [
       "60"
      ],
      "text/markdown": [
       "60"
      ],
      "text/plain": [
       "[1] 60"
      ]
     },
     "metadata": {},
     "output_type": "display_data"
    }
   ],
   "source": [
    "# NA(결측치)\n",
    "sum(10, 20, 30, NA) # 결측치가 있으면 함수 계산이 불가능함.\n",
    "sum(10, 20, 30, NA, na.rm=TRUE)"
   ]
  },
  {
   "cell_type": "markdown",
   "metadata": {},
   "source": [
    "# 관계 연산자"
   ]
  },
  {
   "cell_type": "code",
   "execution_count": 36,
   "metadata": {},
   "outputs": [],
   "source": [
    "# 변수에 value 할당\n",
    "\n",
    "num1 <- 100\n",
    "num2 <- 20"
   ]
  },
  {
   "cell_type": "code",
   "execution_count": 39,
   "metadata": {},
   "outputs": [
    {
     "data": {
      "text/html": [
       "FALSE"
      ],
      "text/latex": [
       "FALSE"
      ],
      "text/markdown": [
       "FALSE"
      ],
      "text/plain": [
       "[1] FALSE"
      ]
     },
     "metadata": {},
     "output_type": "display_data"
    },
    {
     "data": {
      "text/html": [
       "TRUE"
      ],
      "text/latex": [
       "TRUE"
      ],
      "text/markdown": [
       "TRUE"
      ],
      "text/plain": [
       "[1] TRUE"
      ]
     },
     "metadata": {},
     "output_type": "display_data"
    }
   ],
   "source": [
    "# 동등 비교\n",
    "num1 == num2\n",
    "num1 != num2"
   ]
  },
  {
   "cell_type": "code",
   "execution_count": 43,
   "metadata": {},
   "outputs": [
    {
     "data": {
      "text/html": [
       "TRUE"
      ],
      "text/latex": [
       "TRUE"
      ],
      "text/markdown": [
       "TRUE"
      ],
      "text/plain": [
       "[1] TRUE"
      ]
     },
     "metadata": {},
     "output_type": "display_data"
    },
    {
     "data": {
      "text/html": [
       "FALSE"
      ],
      "text/latex": [
       "FALSE"
      ],
      "text/markdown": [
       "FALSE"
      ],
      "text/plain": [
       "[1] FALSE"
      ]
     },
     "metadata": {},
     "output_type": "display_data"
    },
    {
     "data": {
      "text/html": [
       "TRUE"
      ],
      "text/latex": [
       "TRUE"
      ],
      "text/markdown": [
       "TRUE"
      ],
      "text/plain": [
       "[1] TRUE"
      ]
     },
     "metadata": {},
     "output_type": "display_data"
    },
    {
     "data": {
      "text/html": [
       "FALSE"
      ],
      "text/latex": [
       "FALSE"
      ],
      "text/markdown": [
       "FALSE"
      ],
      "text/plain": [
       "[1] FALSE"
      ]
     },
     "metadata": {},
     "output_type": "display_data"
    }
   ],
   "source": [
    "# 크기 비교\n",
    "num1 > num2\n",
    "num1 < num2\n",
    "num1 >= num2\n",
    "num1 <= num2"
   ]
  },
  {
   "cell_type": "markdown",
   "metadata": {},
   "source": [
    "# 논리 연산자"
   ]
  },
  {
   "cell_type": "code",
   "execution_count": 45,
   "metadata": {},
   "outputs": [
    {
     "data": {
      "text/html": [
       "FALSE"
      ],
      "text/latex": [
       "FALSE"
      ],
      "text/markdown": [
       "FALSE"
      ],
      "text/plain": [
       "[1] FALSE"
      ]
     },
     "metadata": {},
     "output_type": "display_data"
    },
    {
     "data": {
      "text/html": [
       "TRUE"
      ],
      "text/latex": [
       "TRUE"
      ],
      "text/markdown": [
       "TRUE"
      ],
      "text/plain": [
       "[1] TRUE"
      ]
     },
     "metadata": {},
     "output_type": "display_data"
    }
   ],
   "source": [
    "# And, Or 연산자\n",
    "num1 >= 50 & num2 <=10\n",
    "num1 >= 50 | num2 <= 10"
   ]
  },
  {
   "cell_type": "markdown",
   "metadata": {},
   "source": [
    "# 자료형 확인\n",
    "\n",
    "- is.numeric(x) : x가 수치형인가?\n",
    "- is.logical(x) : x가 논리형인가?\n",
    "- is.integer(x) : x가 정수형인가?\n",
    "- is.duoble(x) : x가 실수형인가?\n",
    "- is.data.frme(x) : x가 데이터프레임인가?\n",
    "- is.factor(x) : x가 범주형(요인형)인가?\n",
    "- is.na(x) : x에 NA가 있는가?\n",
    "- class(x) : x의 데이터 형태 확인"
   ]
  },
  {
   "cell_type": "code",
   "execution_count": 60,
   "metadata": {},
   "outputs": [
    {
     "data": {
      "text/html": [
       "TRUE"
      ],
      "text/latex": [
       "TRUE"
      ],
      "text/markdown": [
       "TRUE"
      ],
      "text/plain": [
       "[1] TRUE"
      ]
     },
     "metadata": {},
     "output_type": "display_data"
    },
    {
     "data": {
      "text/html": [
       "FALSE"
      ],
      "text/latex": [
       "FALSE"
      ],
      "text/markdown": [
       "FALSE"
      ],
      "text/plain": [
       "[1] FALSE"
      ]
     },
     "metadata": {},
     "output_type": "display_data"
    },
    {
     "data": {
      "text/html": [
       "TRUE"
      ],
      "text/latex": [
       "TRUE"
      ],
      "text/markdown": [
       "TRUE"
      ],
      "text/plain": [
       "[1] TRUE"
      ]
     },
     "metadata": {},
     "output_type": "display_data"
    },
    {
     "data": {
      "text/html": [
       "TRUE"
      ],
      "text/latex": [
       "TRUE"
      ],
      "text/markdown": [
       "TRUE"
      ],
      "text/plain": [
       "[1] TRUE"
      ]
     },
     "metadata": {},
     "output_type": "display_data"
    },
    {
     "data": {
      "text/html": [
       "'numeric'"
      ],
      "text/latex": [
       "'numeric'"
      ],
      "text/markdown": [
       "'numeric'"
      ],
      "text/plain": [
       "[1] \"numeric\""
      ]
     },
     "metadata": {},
     "output_type": "display_data"
    },
    {
     "data": {
      "text/html": [
       "'data.frame'"
      ],
      "text/latex": [
       "'data.frame'"
      ],
      "text/markdown": [
       "'data.frame'"
      ],
      "text/plain": [
       "[1] \"data.frame\""
      ]
     },
     "metadata": {},
     "output_type": "display_data"
    }
   ],
   "source": [
    "# iris 의 Sepal.Length 컬럼의 자료형 확인\n",
    "is.numeric(iris$Sepal.Length)\n",
    "is.integer(iris$Sepal.Length)\n",
    "is.double(iris$Sepal.Length)\n",
    "is.data.frame(iris)\n",
    "\n",
    "class(iris$Sepal.Length)\n",
    "class(iris)"
   ]
  },
  {
   "cell_type": "code",
   "execution_count": 59,
   "metadata": {},
   "outputs": [
    {
     "name": "stdout",
     "output_type": "stream",
     "text": [
      "'data.frame':\t150 obs. of  5 variables:\n",
      " $ Sepal.Length: num  5.1 4.9 4.7 4.6 5 5.4 4.6 5 4.4 4.9 ...\n",
      " $ Sepal.Width : num  3.5 3 3.2 3.1 3.6 3.9 3.4 3.4 2.9 3.1 ...\n",
      " $ Petal.Length: num  1.4 1.4 1.3 1.5 1.4 1.7 1.4 1.5 1.4 1.5 ...\n",
      " $ Petal.Width : num  0.2 0.2 0.2 0.2 0.2 0.4 0.3 0.2 0.2 0.1 ...\n",
      " $ Species     : Factor w/ 3 levels \"setosa\",\"versicolor\",..: 1 1 1 1 1 1 1 1 1 1 ...\n"
     ]
    }
   ],
   "source": [
    "#iris의 자료구조 확인하기\n",
    "str(iris)"
   ]
  },
  {
   "cell_type": "code",
   "execution_count": 63,
   "metadata": {},
   "outputs": [
    {
     "data": {
      "text/html": [
       "0"
      ],
      "text/latex": [
       "0"
      ],
      "text/markdown": [
       "0"
      ],
      "text/plain": [
       "[1] 0"
      ]
     },
     "metadata": {},
     "output_type": "display_data"
    },
    {
     "data": {
      "text/html": [
       "0"
      ],
      "text/latex": [
       "0"
      ],
      "text/markdown": [
       "0"
      ],
      "text/plain": [
       "[1] 0"
      ]
     },
     "metadata": {},
     "output_type": "display_data"
    }
   ],
   "source": [
    "# NA를 쉽게 확인하는 방법 : TRUE (1), FALSE(0)\n",
    "# na확인\n",
    "\n",
    "sum(is.na(iris$Sepal.Length))\n",
    "sum(is.na(iris))"
   ]
  },
  {
   "cell_type": "code",
   "execution_count": 64,
   "metadata": {},
   "outputs": [
    {
     "data": {
      "text/html": [
       "FALSE"
      ],
      "text/latex": [
       "FALSE"
      ],
      "text/markdown": [
       "FALSE"
      ],
      "text/plain": [
       "[1] FALSE"
      ]
     },
     "metadata": {},
     "output_type": "display_data"
    },
    {
     "data": {
      "text/html": [
       "'character'"
      ],
      "text/latex": [
       "'character'"
      ],
      "text/markdown": [
       "'character'"
      ],
      "text/plain": [
       "[1] \"character\""
      ]
     },
     "metadata": {},
     "output_type": "display_data"
    }
   ],
   "source": [
    "# 자료형 확인\n",
    "num1 <- \"12345\"\n",
    "is.numeric(num1)\n",
    "class(num1)"
   ]
  },
  {
   "cell_type": "code",
   "execution_count": 67,
   "metadata": {},
   "outputs": [
    {
     "data": {
      "text/html": [
       "'character'"
      ],
      "text/latex": [
       "'character'"
      ],
      "text/markdown": [
       "'character'"
      ],
      "text/plain": [
       "[1] \"character\""
      ]
     },
     "metadata": {},
     "output_type": "display_data"
    },
    {
     "data": {
      "text/html": [
       "<ol class=list-inline>\n",
       "\t<li>'1'</li>\n",
       "\t<li>'2'</li>\n",
       "\t<li>'3'</li>\n",
       "\t<li>'4'</li>\n",
       "</ol>\n"
      ],
      "text/latex": [
       "\\begin{enumerate*}\n",
       "\\item '1'\n",
       "\\item '2'\n",
       "\\item '3'\n",
       "\\item '4'\n",
       "\\end{enumerate*}\n"
      ],
      "text/markdown": [
       "1. '1'\n",
       "2. '2'\n",
       "3. '3'\n",
       "4. '4'\n",
       "\n",
       "\n"
      ],
      "text/plain": [
       "[1] \"1\" \"2\" \"3\" \"4\""
      ]
     },
     "metadata": {},
     "output_type": "display_data"
    }
   ],
   "source": [
    "num1 <- c(1, 2, 3, \"4\")\n",
    "class(num1)\n",
    "num1"
   ]
  },
  {
   "cell_type": "markdown",
   "metadata": {},
   "source": [
    "# 자료형 변환\n",
    "\n",
    "- as.numeric(x) : x를 수치형으로 변환\n",
    "- as.integer(x) : x를 정수형으로 변환\n",
    "- as.longical(x) : x를 논리형으로 변환\n",
    "- as.double(x) : x를 실수형으로변환\n",
    "- as.data.frame(x) : x를 데이터프레임으로 변환\n",
    "- as.factor(x) : x를 요인형(범주형)으로 변환\n",
    "- as.Date(x) : x를 날짜형으로 변환"
   ]
  },
  {
   "cell_type": "code",
   "execution_count": 71,
   "metadata": {},
   "outputs": [
    {
     "data": {
      "text/html": [
       "'character'"
      ],
      "text/latex": [
       "'character'"
      ],
      "text/markdown": [
       "'character'"
      ],
      "text/plain": [
       "[1] \"character\""
      ]
     },
     "metadata": {},
     "output_type": "display_data"
    },
    {
     "data": {
      "text/html": [
       "TRUE"
      ],
      "text/latex": [
       "TRUE"
      ],
      "text/markdown": [
       "TRUE"
      ],
      "text/plain": [
       "[1] TRUE"
      ]
     },
     "metadata": {},
     "output_type": "display_data"
    },
    {
     "data": {
      "text/html": [
       "'numeric'"
      ],
      "text/latex": [
       "'numeric'"
      ],
      "text/markdown": [
       "'numeric'"
      ],
      "text/plain": [
       "[1] \"numeric\""
      ]
     },
     "metadata": {},
     "output_type": "display_data"
    }
   ],
   "source": [
    "# 자료형 확인 후 데이터를 숫자로 변환하기\n",
    "\n",
    "num1 <- c(1,2,3,\"4\")\n",
    "class(num1)\n",
    "num2 <- as.numeric(num1)\n",
    "is.numeric(num2)\n",
    "class(num2)"
   ]
  },
  {
   "cell_type": "markdown",
   "metadata": {},
   "source": [
    "## 요인형(범주형) 변환\n",
    "요인(factor)는 동일한 값의 목록을 범주로 갖는 벡터 자료   \n",
    "요인형 변수는 문자와 숫자를 동시에 갖고 있어서 계산에도 사용됨.   \n",
    "범주는 변수가 가질 수 있는 범위 (예: 성별 변수의 범주는 남자, 여자)   "
   ]
  },
  {
   "cell_type": "code",
   "execution_count": 73,
   "metadata": {},
   "outputs": [
    {
     "data": {
      "text/html": [
       "<ol class=list-inline>\n",
       "\t<li>'man'</li>\n",
       "\t<li>'woman'</li>\n",
       "\t<li>'woman'</li>\n",
       "\t<li>'man'</li>\n",
       "\t<li>'man'</li>\n",
       "</ol>\n"
      ],
      "text/latex": [
       "\\begin{enumerate*}\n",
       "\\item 'man'\n",
       "\\item 'woman'\n",
       "\\item 'woman'\n",
       "\\item 'man'\n",
       "\\item 'man'\n",
       "\\end{enumerate*}\n"
      ],
      "text/markdown": [
       "1. 'man'\n",
       "2. 'woman'\n",
       "3. 'woman'\n",
       "4. 'man'\n",
       "5. 'man'\n",
       "\n",
       "\n"
      ],
      "text/plain": [
       "[1] \"man\"   \"woman\" \"woman\" \"man\"   \"man\"  "
      ]
     },
     "metadata": {},
     "output_type": "display_data"
    }
   ],
   "source": [
    "gender <- c(\"man\",\"woman\",\"woman\",\"man\",\"man\")\n",
    "gender"
   ]
  },
  {
   "cell_type": "code",
   "execution_count": 74,
   "metadata": {},
   "outputs": [
    {
     "data": {
      "text/plain": [
       "gender\n",
       "  man woman \n",
       "    3     2 "
      ]
     },
     "metadata": {},
     "output_type": "display_data"
    }
   ],
   "source": [
    "# 빈도수 확인\n",
    "\n",
    "table(gender)"
   ]
  },
  {
   "cell_type": "code",
   "execution_count": 77,
   "metadata": {},
   "outputs": [],
   "source": [
    "#plot(gender) --> Error"
   ]
  },
  {
   "cell_type": "code",
   "execution_count": 79,
   "metadata": {},
   "outputs": [],
   "source": [
    "# 문자열 데이터를 factor로 변환\n",
    "Ngender <- as.factor(gender)"
   ]
  },
  {
   "cell_type": "code",
   "execution_count": 80,
   "metadata": {},
   "outputs": [
    {
     "data": {
      "text/plain": [
       "Ngender\n",
       "  man woman \n",
       "    3     2 "
      ]
     },
     "metadata": {},
     "output_type": "display_data"
    }
   ],
   "source": [
    "# 빈도수 확인\n",
    "table(Ngender)"
   ]
  },
  {
   "cell_type": "code",
   "execution_count": 81,
   "metadata": {
    "collapsed": true
   },
   "outputs": [
    {
     "data": {
      "image/png": "[encoded data removed]",
      "text/plain": [
       "plot without title"
      ]
     },
     "metadata": {},
     "output_type": "display_data"
    }
   ],
   "source": [
    "plot(Ngender)"
   ]
  },
  {
   "cell_type": "markdown",
   "metadata": {},
   "source": [
    "# 날짜형 변환"
   ]
  },
  {
   "cell_type": "code",
   "execution_count": 82,
   "metadata": {},
   "outputs": [
    {
     "data": {
      "text/html": [
       "'17/02/28'"
      ],
      "text/latex": [
       "'17/02/28'"
      ],
      "text/markdown": [
       "'17/02/28'"
      ],
      "text/plain": [
       "[1] \"17/02/28\""
      ]
     },
     "metadata": {},
     "output_type": "display_data"
    }
   ],
   "source": [
    "date1 <- \"17/02/28\"\n",
    "date1"
   ]
  },
  {
   "cell_type": "code",
   "execution_count": 91,
   "metadata": {
    "collapsed": true
   },
   "outputs": [
    {
     "data": {
      "text/html": [
       "<time datetime=\"2017-02-28\">2017-02-28</time>"
      ],
      "text/latex": [
       "2017-02-28"
      ],
      "text/markdown": [
       "2017-02-28"
      ],
      "text/plain": [
       "[1] \"2017-02-28\""
      ]
     },
     "metadata": {},
     "output_type": "display_data"
    },
    {
     "data": {
      "text/html": [
       "<time datetime=\"2017-02-28\">2017-02-28</time>"
      ],
      "text/latex": [
       "2017-02-28"
      ],
      "text/markdown": [
       "2017-02-28"
      ],
      "text/plain": [
       "[1] \"2017-02-28\""
      ]
     },
     "metadata": {},
     "output_type": "display_data"
    },
    {
     "data": {
      "text/html": [
       "<time datetime=\"2018-12-31\">2018-12-31</time>"
      ],
      "text/latex": [
       "2018-12-31"
      ],
      "text/markdown": [
       "2018-12-31"
      ],
      "text/plain": [
       "[1] \"2018-12-31\""
      ]
     },
     "metadata": {},
     "output_type": "display_data"
    }
   ],
   "source": [
    "# 문자 데이터를 날짜 데이터로 변환하기\n",
    "as.Date(\"17/02/28\", \"%y/%m/%d\")\n",
    "as.Date(\"17-02-28\", \"%y-%m-%d\")\n",
    "as.Date(\"2018/12/31\", \"%Y/%m/%d\")"
   ]
  },
  {
   "cell_type": "code",
   "execution_count": 93,
   "metadata": {},
   "outputs": [
    {
     "data": {
      "text/html": [
       "<ol class=list-inline>\n",
       "\t<li>'02/28/17'</li>\n",
       "\t<li>'02/29/17'</li>\n",
       "\t<li>'03/01/17'</li>\n",
       "</ol>\n"
      ],
      "text/latex": [
       "\\begin{enumerate*}\n",
       "\\item '02/28/17'\n",
       "\\item '02/29/17'\n",
       "\\item '03/01/17'\n",
       "\\end{enumerate*}\n"
      ],
      "text/markdown": [
       "1. '02/28/17'\n",
       "2. '02/29/17'\n",
       "3. '03/01/17'\n",
       "\n",
       "\n"
      ],
      "text/plain": [
       "[1] \"02/28/17\" \"02/29/17\" \"03/01/17\""
      ]
     },
     "metadata": {},
     "output_type": "display_data"
    },
    {
     "data": {
      "text/html": [
       "<ol class=list-inline>\n",
       "\t<li><time datetime=\"2017-02-28\">2017-02-28</time></li>\n",
       "\t<li><time datetime=\"&lt;NA&gt;\">&lt;NA&gt;</time></li>\n",
       "\t<li><time datetime=\"2017-03-01\">2017-03-01</time></li>\n",
       "</ol>\n"
      ],
      "text/latex": [
       "\\begin{enumerate*}\n",
       "\\item 2017-02-28\n",
       "\\item <NA>\n",
       "\\item 2017-03-01\n",
       "\\end{enumerate*}\n"
      ],
      "text/markdown": [
       "1. 2017-02-28\n",
       "2. &lt;NA&gt;\n",
       "3. 2017-03-01\n",
       "\n",
       "\n"
      ],
      "text/plain": [
       "[1] \"2017-02-28\" NA           \"2017-03-01\""
      ]
     },
     "metadata": {},
     "output_type": "display_data"
    }
   ],
   "source": [
    "# 진짜 날짜형인지 확인\n",
    "\n",
    "datas <- c(\"02/28/17\", \"02/29/17\", \"03/01/17\")\n",
    "datas\n",
    "as.Date(datas, \"%m/%d/%y\")"
   ]
  },
  {
   "cell_type": "code",
   "execution_count": 97,
   "metadata": {},
   "outputs": [
    {
     "data": {
      "text/plain": [
       "Time difference of 1225 days"
      ]
     },
     "metadata": {},
     "output_type": "display_data"
    }
   ],
   "source": [
    "# 날짜 계산\n",
    "\n",
    "mydates <- as.Date(c(\"2007-06-22\", \"2004-02-13\"))\n",
    "mydates[1] - mydates[2]"
   ]
  },
  {
   "cell_type": "code",
   "execution_count": 103,
   "metadata": {},
   "outputs": [
    {
     "data": {
      "text/html": [
       "<time datetime=\"2020-09-22\">2020-09-22</time>"
      ],
      "text/latex": [
       "2020-09-22"
      ],
      "text/markdown": [
       "2020-09-22"
      ],
      "text/plain": [
       "[1] \"2020-09-22\""
      ]
     },
     "metadata": {},
     "output_type": "display_data"
    },
    {
     "data": {
      "text/html": [
       "'Date'"
      ],
      "text/latex": [
       "'Date'"
      ],
      "text/markdown": [
       "'Date'"
      ],
      "text/plain": [
       "[1] \"Date\""
      ]
     },
     "metadata": {},
     "output_type": "display_data"
    },
    {
     "data": {
      "text/plain": [
       "Time difference of 94 days"
      ]
     },
     "metadata": {},
     "output_type": "display_data"
    },
    {
     "data": {
      "text/plain": [
       "Time difference of 9131 days"
      ]
     },
     "metadata": {},
     "output_type": "display_data"
    }
   ],
   "source": [
    "# 현재일자 기준으로 날짜 계산하기\n",
    "# 현재일자\n",
    "Sys.Date()\n",
    "# 데이터 형 알아보기\n",
    "class(Sys.Date())\n",
    "# 날짜 계산하기\n",
    "as.Date(\"2020-12-25\") - Sys.Date()\n",
    "Sys.Date() - as.Date(\"1995-09-23\")"
   ]
  },
  {
   "cell_type": "markdown",
   "metadata": {},
   "source": [
    "---\n",
    "# Vector 자료 구조\n",
    "백터는 R에서 가장 기본이 되는 자료구조이다.   \n",
    "- 1차원 선형 자료 구조 형태이다.\n",
    "- 구성 : 변수[첨자]로 구성되고 첨자는 1부터 시작이다.\n",
    "- 동일한 자료형의 데이터만 저장.\n",
    "- 벡터 생성 함수 : c(), seq(), rep, :, ...\n",
    "- 벡터 처리 함수: sum(), mean(), sd(), union(), ..."
   ]
  },
  {
   "cell_type": "code",
   "execution_count": 108,
   "metadata": {},
   "outputs": [
    {
     "data": {
      "text/html": [
       "<ol class=list-inline>\n",
       "\t<li>5.1</li>\n",
       "\t<li>4.9</li>\n",
       "\t<li>4.7</li>\n",
       "\t<li>4.6</li>\n",
       "\t<li>5</li>\n",
       "\t<li>5.4</li>\n",
       "\t<li>4.6</li>\n",
       "\t<li>5</li>\n",
       "\t<li>4.4</li>\n",
       "\t<li>4.9</li>\n",
       "\t<li>5.4</li>\n",
       "\t<li>4.8</li>\n",
       "\t<li>4.8</li>\n",
       "\t<li>4.3</li>\n",
       "\t<li>5.8</li>\n",
       "\t<li>5.7</li>\n",
       "\t<li>5.4</li>\n",
       "\t<li>5.1</li>\n",
       "\t<li>5.7</li>\n",
       "\t<li>5.1</li>\n",
       "\t<li>5.4</li>\n",
       "\t<li>5.1</li>\n",
       "\t<li>4.6</li>\n",
       "\t<li>5.1</li>\n",
       "\t<li>4.8</li>\n",
       "\t<li>5</li>\n",
       "\t<li>5</li>\n",
       "\t<li>5.2</li>\n",
       "\t<li>5.2</li>\n",
       "\t<li>4.7</li>\n",
       "\t<li>4.8</li>\n",
       "\t<li>5.4</li>\n",
       "\t<li>5.2</li>\n",
       "\t<li>5.5</li>\n",
       "\t<li>4.9</li>\n",
       "\t<li>5</li>\n",
       "\t<li>5.5</li>\n",
       "\t<li>4.9</li>\n",
       "\t<li>4.4</li>\n",
       "\t<li>5.1</li>\n",
       "\t<li>5</li>\n",
       "\t<li>4.5</li>\n",
       "\t<li>4.4</li>\n",
       "\t<li>5</li>\n",
       "\t<li>5.1</li>\n",
       "\t<li>4.8</li>\n",
       "\t<li>5.1</li>\n",
       "\t<li>4.6</li>\n",
       "\t<li>5.3</li>\n",
       "\t<li>5</li>\n",
       "\t<li>7</li>\n",
       "\t<li>6.4</li>\n",
       "\t<li>6.9</li>\n",
       "\t<li>5.5</li>\n",
       "\t<li>6.5</li>\n",
       "\t<li>5.7</li>\n",
       "\t<li>6.3</li>\n",
       "\t<li>4.9</li>\n",
       "\t<li>6.6</li>\n",
       "\t<li>5.2</li>\n",
       "\t<li>5</li>\n",
       "\t<li>5.9</li>\n",
       "\t<li>6</li>\n",
       "\t<li>6.1</li>\n",
       "\t<li>5.6</li>\n",
       "\t<li>6.7</li>\n",
       "\t<li>5.6</li>\n",
       "\t<li>5.8</li>\n",
       "\t<li>6.2</li>\n",
       "\t<li>5.6</li>\n",
       "\t<li>5.9</li>\n",
       "\t<li>6.1</li>\n",
       "\t<li>6.3</li>\n",
       "\t<li>6.1</li>\n",
       "\t<li>6.4</li>\n",
       "\t<li>6.6</li>\n",
       "\t<li>6.8</li>\n",
       "\t<li>6.7</li>\n",
       "\t<li>6</li>\n",
       "\t<li>5.7</li>\n",
       "\t<li>5.5</li>\n",
       "\t<li>5.5</li>\n",
       "\t<li>5.8</li>\n",
       "\t<li>6</li>\n",
       "\t<li>5.4</li>\n",
       "\t<li>6</li>\n",
       "\t<li>6.7</li>\n",
       "\t<li>6.3</li>\n",
       "\t<li>5.6</li>\n",
       "\t<li>5.5</li>\n",
       "\t<li>5.5</li>\n",
       "\t<li>6.1</li>\n",
       "\t<li>5.8</li>\n",
       "\t<li>5</li>\n",
       "\t<li>5.6</li>\n",
       "\t<li>5.7</li>\n",
       "\t<li>5.7</li>\n",
       "\t<li>6.2</li>\n",
       "\t<li>5.1</li>\n",
       "\t<li>5.7</li>\n",
       "\t<li>6.3</li>\n",
       "\t<li>5.8</li>\n",
       "\t<li>7.1</li>\n",
       "\t<li>6.3</li>\n",
       "\t<li>6.5</li>\n",
       "\t<li>7.6</li>\n",
       "\t<li>4.9</li>\n",
       "\t<li>7.3</li>\n",
       "\t<li>6.7</li>\n",
       "\t<li>7.2</li>\n",
       "\t<li>6.5</li>\n",
       "\t<li>6.4</li>\n",
       "\t<li>6.8</li>\n",
       "\t<li>5.7</li>\n",
       "\t<li>5.8</li>\n",
       "\t<li>6.4</li>\n",
       "\t<li>6.5</li>\n",
       "\t<li>7.7</li>\n",
       "\t<li>7.7</li>\n",
       "\t<li>6</li>\n",
       "\t<li>6.9</li>\n",
       "\t<li>5.6</li>\n",
       "\t<li>7.7</li>\n",
       "\t<li>6.3</li>\n",
       "\t<li>6.7</li>\n",
       "\t<li>7.2</li>\n",
       "\t<li>6.2</li>\n",
       "\t<li>6.1</li>\n",
       "\t<li>6.4</li>\n",
       "\t<li>7.2</li>\n",
       "\t<li>7.4</li>\n",
       "\t<li>7.9</li>\n",
       "\t<li>6.4</li>\n",
       "\t<li>6.3</li>\n",
       "\t<li>6.1</li>\n",
       "\t<li>7.7</li>\n",
       "\t<li>6.3</li>\n",
       "\t<li>6.4</li>\n",
       "\t<li>6</li>\n",
       "\t<li>6.9</li>\n",
       "\t<li>6.7</li>\n",
       "\t<li>6.9</li>\n",
       "\t<li>5.8</li>\n",
       "\t<li>6.8</li>\n",
       "\t<li>6.7</li>\n",
       "\t<li>6.7</li>\n",
       "\t<li>6.3</li>\n",
       "\t<li>6.5</li>\n",
       "\t<li>6.2</li>\n",
       "\t<li>5.9</li>\n",
       "</ol>\n"
      ],
      "text/latex": [
       "\\begin{enumerate*}\n",
       "\\item 5.1\n",
       "\\item 4.9\n",
       "\\item 4.7\n",
       "\\item 4.6\n",
       "\\item 5\n",
       "\\item 5.4\n",
       "\\item 4.6\n",
       "\\item 5\n",
       "\\item 4.4\n",
       "\\item 4.9\n",
       "\\item 5.4\n",
       "\\item 4.8\n",
       "\\item 4.8\n",
       "\\item 4.3\n",
       "\\item 5.8\n",
       "\\item 5.7\n",
       "\\item 5.4\n",
       "\\item 5.1\n",
       "\\item 5.7\n",
       "\\item 5.1\n",
       "\\item 5.4\n",
       "\\item 5.1\n",
       "\\item 4.6\n",
       "\\item 5.1\n",
       "\\item 4.8\n",
       "\\item 5\n",
       "\\item 5\n",
       "\\item 5.2\n",
       "\\item 5.2\n",
       "\\item 4.7\n",
       "\\item 4.8\n",
       "\\item 5.4\n",
       "\\item 5.2\n",
       "\\item 5.5\n",
       "\\item 4.9\n",
       "\\item 5\n",
       "\\item 5.5\n",
       "\\item 4.9\n",
       "\\item 4.4\n",
       "\\item 5.1\n",
       "\\item 5\n",
       "\\item 4.5\n",
       "\\item 4.4\n",
       "\\item 5\n",
       "\\item 5.1\n",
       "\\item 4.8\n",
       "\\item 5.1\n",
       "\\item 4.6\n",
       "\\item 5.3\n",
       "\\item 5\n",
       "\\item 7\n",
       "\\item 6.4\n",
       "\\item 6.9\n",
       "\\item 5.5\n",
       "\\item 6.5\n",
       "\\item 5.7\n",
       "\\item 6.3\n",
       "\\item 4.9\n",
       "\\item 6.6\n",
       "\\item 5.2\n",
       "\\item 5\n",
       "\\item 5.9\n",
       "\\item 6\n",
       "\\item 6.1\n",
       "\\item 5.6\n",
       "\\item 6.7\n",
       "\\item 5.6\n",
       "\\item 5.8\n",
       "\\item 6.2\n",
       "\\item 5.6\n",
       "\\item 5.9\n",
       "\\item 6.1\n",
       "\\item 6.3\n",
       "\\item 6.1\n",
       "\\item 6.4\n",
       "\\item 6.6\n",
       "\\item 6.8\n",
       "\\item 6.7\n",
       "\\item 6\n",
       "\\item 5.7\n",
       "\\item 5.5\n",
       "\\item 5.5\n",
       "\\item 5.8\n",
       "\\item 6\n",
       "\\item 5.4\n",
       "\\item 6\n",
       "\\item 6.7\n",
       "\\item 6.3\n",
       "\\item 5.6\n",
       "\\item 5.5\n",
       "\\item 5.5\n",
       "\\item 6.1\n",
       "\\item 5.8\n",
       "\\item 5\n",
       "\\item 5.6\n",
       "\\item 5.7\n",
       "\\item 5.7\n",
       "\\item 6.2\n",
       "\\item 5.1\n",
       "\\item 5.7\n",
       "\\item 6.3\n",
       "\\item 5.8\n",
       "\\item 7.1\n",
       "\\item 6.3\n",
       "\\item 6.5\n",
       "\\item 7.6\n",
       "\\item 4.9\n",
       "\\item 7.3\n",
       "\\item 6.7\n",
       "\\item 7.2\n",
       "\\item 6.5\n",
       "\\item 6.4\n",
       "\\item 6.8\n",
       "\\item 5.7\n",
       "\\item 5.8\n",
       "\\item 6.4\n",
       "\\item 6.5\n",
       "\\item 7.7\n",
       "\\item 7.7\n",
       "\\item 6\n",
       "\\item 6.9\n",
       "\\item 5.6\n",
       "\\item 7.7\n",
       "\\item 6.3\n",
       "\\item 6.7\n",
       "\\item 7.2\n",
       "\\item 6.2\n",
       "\\item 6.1\n",
       "\\item 6.4\n",
       "\\item 7.2\n",
       "\\item 7.4\n",
       "\\item 7.9\n",
       "\\item 6.4\n",
       "\\item 6.3\n",
       "\\item 6.1\n",
       "\\item 7.7\n",
       "\\item 6.3\n",
       "\\item 6.4\n",
       "\\item 6\n",
       "\\item 6.9\n",
       "\\item 6.7\n",
       "\\item 6.9\n",
       "\\item 5.8\n",
       "\\item 6.8\n",
       "\\item 6.7\n",
       "\\item 6.7\n",
       "\\item 6.3\n",
       "\\item 6.5\n",
       "\\item 6.2\n",
       "\\item 5.9\n",
       "\\end{enumerate*}\n"
      ],
      "text/markdown": [
       "1. 5.1\n",
       "2. 4.9\n",
       "3. 4.7\n",
       "4. 4.6\n",
       "5. 5\n",
       "6. 5.4\n",
       "7. 4.6\n",
       "8. 5\n",
       "9. 4.4\n",
       "10. 4.9\n",
       "11. 5.4\n",
       "12. 4.8\n",
       "13. 4.8\n",
       "14. 4.3\n",
       "15. 5.8\n",
       "16. 5.7\n",
       "17. 5.4\n",
       "18. 5.1\n",
       "19. 5.7\n",
       "20. 5.1\n",
       "21. 5.4\n",
       "22. 5.1\n",
       "23. 4.6\n",
       "24. 5.1\n",
       "25. 4.8\n",
       "26. 5\n",
       "27. 5\n",
       "28. 5.2\n",
       "29. 5.2\n",
       "30. 4.7\n",
       "31. 4.8\n",
       "32. 5.4\n",
       "33. 5.2\n",
       "34. 5.5\n",
       "35. 4.9\n",
       "36. 5\n",
       "37. 5.5\n",
       "38. 4.9\n",
       "39. 4.4\n",
       "40. 5.1\n",
       "41. 5\n",
       "42. 4.5\n",
       "43. 4.4\n",
       "44. 5\n",
       "45. 5.1\n",
       "46. 4.8\n",
       "47. 5.1\n",
       "48. 4.6\n",
       "49. 5.3\n",
       "50. 5\n",
       "51. 7\n",
       "52. 6.4\n",
       "53. 6.9\n",
       "54. 5.5\n",
       "55. 6.5\n",
       "56. 5.7\n",
       "57. 6.3\n",
       "58. 4.9\n",
       "59. 6.6\n",
       "60. 5.2\n",
       "61. 5\n",
       "62. 5.9\n",
       "63. 6\n",
       "64. 6.1\n",
       "65. 5.6\n",
       "66. 6.7\n",
       "67. 5.6\n",
       "68. 5.8\n",
       "69. 6.2\n",
       "70. 5.6\n",
       "71. 5.9\n",
       "72. 6.1\n",
       "73. 6.3\n",
       "74. 6.1\n",
       "75. 6.4\n",
       "76. 6.6\n",
       "77. 6.8\n",
       "78. 6.7\n",
       "79. 6\n",
       "80. 5.7\n",
       "81. 5.5\n",
       "82. 5.5\n",
       "83. 5.8\n",
       "84. 6\n",
       "85. 5.4\n",
       "86. 6\n",
       "87. 6.7\n",
       "88. 6.3\n",
       "89. 5.6\n",
       "90. 5.5\n",
       "91. 5.5\n",
       "92. 6.1\n",
       "93. 5.8\n",
       "94. 5\n",
       "95. 5.6\n",
       "96. 5.7\n",
       "97. 5.7\n",
       "98. 6.2\n",
       "99. 5.1\n",
       "100. 5.7\n",
       "101. 6.3\n",
       "102. 5.8\n",
       "103. 7.1\n",
       "104. 6.3\n",
       "105. 6.5\n",
       "106. 7.6\n",
       "107. 4.9\n",
       "108. 7.3\n",
       "109. 6.7\n",
       "110. 7.2\n",
       "111. 6.5\n",
       "112. 6.4\n",
       "113. 6.8\n",
       "114. 5.7\n",
       "115. 5.8\n",
       "116. 6.4\n",
       "117. 6.5\n",
       "118. 7.7\n",
       "119. 7.7\n",
       "120. 6\n",
       "121. 6.9\n",
       "122. 5.6\n",
       "123. 7.7\n",
       "124. 6.3\n",
       "125. 6.7\n",
       "126. 7.2\n",
       "127. 6.2\n",
       "128. 6.1\n",
       "129. 6.4\n",
       "130. 7.2\n",
       "131. 7.4\n",
       "132. 7.9\n",
       "133. 6.4\n",
       "134. 6.3\n",
       "135. 6.1\n",
       "136. 7.7\n",
       "137. 6.3\n",
       "138. 6.4\n",
       "139. 6\n",
       "140. 6.9\n",
       "141. 6.7\n",
       "142. 6.9\n",
       "143. 5.8\n",
       "144. 6.8\n",
       "145. 6.7\n",
       "146. 6.7\n",
       "147. 6.3\n",
       "148. 6.5\n",
       "149. 6.2\n",
       "150. 5.9\n",
       "\n",
       "\n"
      ],
      "text/plain": [
       "  [1] 5.1 4.9 4.7 4.6 5.0 5.4 4.6 5.0 4.4 4.9 5.4 4.8 4.8 4.3 5.8 5.7 5.4 5.1\n",
       " [19] 5.7 5.1 5.4 5.1 4.6 5.1 4.8 5.0 5.0 5.2 5.2 4.7 4.8 5.4 5.2 5.5 4.9 5.0\n",
       " [37] 5.5 4.9 4.4 5.1 5.0 4.5 4.4 5.0 5.1 4.8 5.1 4.6 5.3 5.0 7.0 6.4 6.9 5.5\n",
       " [55] 6.5 5.7 6.3 4.9 6.6 5.2 5.0 5.9 6.0 6.1 5.6 6.7 5.6 5.8 6.2 5.6 5.9 6.1\n",
       " [73] 6.3 6.1 6.4 6.6 6.8 6.7 6.0 5.7 5.5 5.5 5.8 6.0 5.4 6.0 6.7 6.3 5.6 5.5\n",
       " [91] 5.5 6.1 5.8 5.0 5.6 5.7 5.7 6.2 5.1 5.7 6.3 5.8 7.1 6.3 6.5 7.6 4.9 7.3\n",
       "[109] 6.7 7.2 6.5 6.4 6.8 5.7 5.8 6.4 6.5 7.7 7.7 6.0 6.9 5.6 7.7 6.3 6.7 7.2\n",
       "[127] 6.2 6.1 6.4 7.2 7.4 7.9 6.4 6.3 6.1 7.7 6.3 6.4 6.0 6.9 6.7 6.9 5.8 6.8\n",
       "[145] 6.7 6.7 6.3 6.5 6.2 5.9"
      ]
     },
     "metadata": {},
     "output_type": "display_data"
    }
   ],
   "source": [
    "iris$Sepal.Length # iris의 1차원 벡터"
   ]
  },
  {
   "cell_type": "code",
   "execution_count": 106,
   "metadata": {},
   "outputs": [
    {
     "data": {
      "text/html": [
       "<table>\n",
       "<thead><tr><th scope=col>Sepal.Length</th><th scope=col>Sepal.Width</th><th scope=col>Petal.Length</th><th scope=col>Petal.Width</th><th scope=col>Species</th></tr></thead>\n",
       "<tbody>\n",
       "\t<tr><td>5.1   </td><td>3.5   </td><td>1.4   </td><td>0.2   </td><td>setosa</td></tr>\n",
       "\t<tr><td>4.9   </td><td>3.0   </td><td>1.4   </td><td>0.2   </td><td>setosa</td></tr>\n",
       "\t<tr><td>4.7   </td><td>3.2   </td><td>1.3   </td><td>0.2   </td><td>setosa</td></tr>\n",
       "\t<tr><td>4.6   </td><td>3.1   </td><td>1.5   </td><td>0.2   </td><td>setosa</td></tr>\n",
       "\t<tr><td>5.0   </td><td>3.6   </td><td>1.4   </td><td>0.2   </td><td>setosa</td></tr>\n",
       "\t<tr><td>5.4   </td><td>3.9   </td><td>1.7   </td><td>0.4   </td><td>setosa</td></tr>\n",
       "</tbody>\n",
       "</table>\n"
      ],
      "text/latex": [
       "\\begin{tabular}{r|lllll}\n",
       " Sepal.Length & Sepal.Width & Petal.Length & Petal.Width & Species\\\\\n",
       "\\hline\n",
       "\t 5.1    & 3.5    & 1.4    & 0.2    & setosa\\\\\n",
       "\t 4.9    & 3.0    & 1.4    & 0.2    & setosa\\\\\n",
       "\t 4.7    & 3.2    & 1.3    & 0.2    & setosa\\\\\n",
       "\t 4.6    & 3.1    & 1.5    & 0.2    & setosa\\\\\n",
       "\t 5.0    & 3.6    & 1.4    & 0.2    & setosa\\\\\n",
       "\t 5.4    & 3.9    & 1.7    & 0.4    & setosa\\\\\n",
       "\\end{tabular}\n"
      ],
      "text/markdown": [
       "\n",
       "| Sepal.Length | Sepal.Width | Petal.Length | Petal.Width | Species |\n",
       "|---|---|---|---|---|\n",
       "| 5.1    | 3.5    | 1.4    | 0.2    | setosa |\n",
       "| 4.9    | 3.0    | 1.4    | 0.2    | setosa |\n",
       "| 4.7    | 3.2    | 1.3    | 0.2    | setosa |\n",
       "| 4.6    | 3.1    | 1.5    | 0.2    | setosa |\n",
       "| 5.0    | 3.6    | 1.4    | 0.2    | setosa |\n",
       "| 5.4    | 3.9    | 1.7    | 0.4    | setosa |\n",
       "\n"
      ],
      "text/plain": [
       "  Sepal.Length Sepal.Width Petal.Length Petal.Width Species\n",
       "1 5.1          3.5         1.4          0.2         setosa \n",
       "2 4.9          3.0         1.4          0.2         setosa \n",
       "3 4.7          3.2         1.3          0.2         setosa \n",
       "4 4.6          3.1         1.5          0.2         setosa \n",
       "5 5.0          3.6         1.4          0.2         setosa \n",
       "6 5.4          3.9         1.7          0.4         setosa "
      ]
     },
     "metadata": {},
     "output_type": "display_data"
    }
   ],
   "source": [
    "head(iris)"
   ]
  },
  {
   "cell_type": "code",
   "execution_count": 120,
   "metadata": {},
   "outputs": [
    {
     "data": {
      "text/html": [
       "<ol class=list-inline>\n",
       "\t<li>5.1</li>\n",
       "\t<li>4.9</li>\n",
       "\t<li>4.7</li>\n",
       "\t<li>4.6</li>\n",
       "\t<li>5</li>\n",
       "\t<li>5.4</li>\n",
       "\t<li>4.6</li>\n",
       "\t<li>5</li>\n",
       "\t<li>4.4</li>\n",
       "\t<li>4.9</li>\n",
       "\t<li>5.4</li>\n",
       "\t<li>4.8</li>\n",
       "\t<li>4.8</li>\n",
       "\t<li>4.3</li>\n",
       "\t<li>5.8</li>\n",
       "\t<li>5.7</li>\n",
       "\t<li>5.4</li>\n",
       "\t<li>5.1</li>\n",
       "\t<li>5.7</li>\n",
       "\t<li>5.1</li>\n",
       "\t<li>5.4</li>\n",
       "\t<li>5.1</li>\n",
       "\t<li>4.6</li>\n",
       "\t<li>5.1</li>\n",
       "\t<li>4.8</li>\n",
       "\t<li>5</li>\n",
       "\t<li>5</li>\n",
       "\t<li>5.2</li>\n",
       "\t<li>5.2</li>\n",
       "\t<li>4.7</li>\n",
       "\t<li>4.8</li>\n",
       "\t<li>5.4</li>\n",
       "\t<li>5.2</li>\n",
       "\t<li>5.5</li>\n",
       "\t<li>4.9</li>\n",
       "\t<li>5</li>\n",
       "\t<li>5.5</li>\n",
       "\t<li>4.9</li>\n",
       "\t<li>4.4</li>\n",
       "\t<li>5.1</li>\n",
       "\t<li>5</li>\n",
       "\t<li>4.5</li>\n",
       "\t<li>4.4</li>\n",
       "\t<li>5</li>\n",
       "\t<li>5.1</li>\n",
       "\t<li>4.8</li>\n",
       "\t<li>5.1</li>\n",
       "\t<li>4.6</li>\n",
       "\t<li>5.3</li>\n",
       "\t<li>5</li>\n",
       "\t<li>7</li>\n",
       "\t<li>6.4</li>\n",
       "\t<li>6.9</li>\n",
       "\t<li>5.5</li>\n",
       "\t<li>6.5</li>\n",
       "\t<li>5.7</li>\n",
       "\t<li>6.3</li>\n",
       "\t<li>4.9</li>\n",
       "\t<li>6.6</li>\n",
       "\t<li>5.2</li>\n",
       "\t<li>5</li>\n",
       "\t<li>5.9</li>\n",
       "\t<li>6</li>\n",
       "\t<li>6.1</li>\n",
       "\t<li>5.6</li>\n",
       "\t<li>6.7</li>\n",
       "\t<li>5.6</li>\n",
       "\t<li>5.8</li>\n",
       "\t<li>6.2</li>\n",
       "\t<li>5.6</li>\n",
       "\t<li>5.9</li>\n",
       "\t<li>6.1</li>\n",
       "\t<li>6.3</li>\n",
       "\t<li>6.1</li>\n",
       "\t<li>6.4</li>\n",
       "\t<li>6.6</li>\n",
       "\t<li>6.8</li>\n",
       "\t<li>6.7</li>\n",
       "\t<li>6</li>\n",
       "\t<li>5.7</li>\n",
       "\t<li>5.5</li>\n",
       "\t<li>5.5</li>\n",
       "\t<li>5.8</li>\n",
       "\t<li>6</li>\n",
       "\t<li>5.4</li>\n",
       "\t<li>6</li>\n",
       "\t<li>6.7</li>\n",
       "\t<li>6.3</li>\n",
       "\t<li>5.6</li>\n",
       "\t<li>5.5</li>\n",
       "\t<li>5.5</li>\n",
       "\t<li>6.1</li>\n",
       "\t<li>5.8</li>\n",
       "\t<li>5</li>\n",
       "\t<li>5.6</li>\n",
       "\t<li>5.7</li>\n",
       "\t<li>5.7</li>\n",
       "\t<li>6.2</li>\n",
       "\t<li>5.1</li>\n",
       "\t<li>5.7</li>\n",
       "\t<li>6.3</li>\n",
       "\t<li>5.8</li>\n",
       "\t<li>7.1</li>\n",
       "\t<li>6.3</li>\n",
       "\t<li>6.5</li>\n",
       "\t<li>7.6</li>\n",
       "\t<li>4.9</li>\n",
       "\t<li>7.3</li>\n",
       "\t<li>6.7</li>\n",
       "\t<li>7.2</li>\n",
       "\t<li>6.5</li>\n",
       "\t<li>6.4</li>\n",
       "\t<li>6.8</li>\n",
       "\t<li>5.7</li>\n",
       "\t<li>5.8</li>\n",
       "\t<li>6.4</li>\n",
       "\t<li>6.5</li>\n",
       "\t<li>7.7</li>\n",
       "\t<li>7.7</li>\n",
       "\t<li>6</li>\n",
       "\t<li>6.9</li>\n",
       "\t<li>5.6</li>\n",
       "\t<li>7.7</li>\n",
       "\t<li>6.3</li>\n",
       "\t<li>6.7</li>\n",
       "\t<li>7.2</li>\n",
       "\t<li>6.2</li>\n",
       "\t<li>6.1</li>\n",
       "\t<li>6.4</li>\n",
       "\t<li>7.2</li>\n",
       "\t<li>7.4</li>\n",
       "\t<li>7.9</li>\n",
       "\t<li>6.4</li>\n",
       "\t<li>6.3</li>\n",
       "\t<li>6.1</li>\n",
       "\t<li>7.7</li>\n",
       "\t<li>6.3</li>\n",
       "\t<li>6.4</li>\n",
       "\t<li>6</li>\n",
       "\t<li>6.9</li>\n",
       "\t<li>6.7</li>\n",
       "\t<li>6.9</li>\n",
       "\t<li>5.8</li>\n",
       "\t<li>6.8</li>\n",
       "\t<li>6.7</li>\n",
       "\t<li>6.7</li>\n",
       "\t<li>6.3</li>\n",
       "\t<li>6.5</li>\n",
       "\t<li>6.2</li>\n",
       "\t<li>5.9</li>\n",
       "</ol>\n"
      ],
      "text/latex": [
       "\\begin{enumerate*}\n",
       "\\item 5.1\n",
       "\\item 4.9\n",
       "\\item 4.7\n",
       "\\item 4.6\n",
       "\\item 5\n",
       "\\item 5.4\n",
       "\\item 4.6\n",
       "\\item 5\n",
       "\\item 4.4\n",
       "\\item 4.9\n",
       "\\item 5.4\n",
       "\\item 4.8\n",
       "\\item 4.8\n",
       "\\item 4.3\n",
       "\\item 5.8\n",
       "\\item 5.7\n",
       "\\item 5.4\n",
       "\\item 5.1\n",
       "\\item 5.7\n",
       "\\item 5.1\n",
       "\\item 5.4\n",
       "\\item 5.1\n",
       "\\item 4.6\n",
       "\\item 5.1\n",
       "\\item 4.8\n",
       "\\item 5\n",
       "\\item 5\n",
       "\\item 5.2\n",
       "\\item 5.2\n",
       "\\item 4.7\n",
       "\\item 4.8\n",
       "\\item 5.4\n",
       "\\item 5.2\n",
       "\\item 5.5\n",
       "\\item 4.9\n",
       "\\item 5\n",
       "\\item 5.5\n",
       "\\item 4.9\n",
       "\\item 4.4\n",
       "\\item 5.1\n",
       "\\item 5\n",
       "\\item 4.5\n",
       "\\item 4.4\n",
       "\\item 5\n",
       "\\item 5.1\n",
       "\\item 4.8\n",
       "\\item 5.1\n",
       "\\item 4.6\n",
       "\\item 5.3\n",
       "\\item 5\n",
       "\\item 7\n",
       "\\item 6.4\n",
       "\\item 6.9\n",
       "\\item 5.5\n",
       "\\item 6.5\n",
       "\\item 5.7\n",
       "\\item 6.3\n",
       "\\item 4.9\n",
       "\\item 6.6\n",
       "\\item 5.2\n",
       "\\item 5\n",
       "\\item 5.9\n",
       "\\item 6\n",
       "\\item 6.1\n",
       "\\item 5.6\n",
       "\\item 6.7\n",
       "\\item 5.6\n",
       "\\item 5.8\n",
       "\\item 6.2\n",
       "\\item 5.6\n",
       "\\item 5.9\n",
       "\\item 6.1\n",
       "\\item 6.3\n",
       "\\item 6.1\n",
       "\\item 6.4\n",
       "\\item 6.6\n",
       "\\item 6.8\n",
       "\\item 6.7\n",
       "\\item 6\n",
       "\\item 5.7\n",
       "\\item 5.5\n",
       "\\item 5.5\n",
       "\\item 5.8\n",
       "\\item 6\n",
       "\\item 5.4\n",
       "\\item 6\n",
       "\\item 6.7\n",
       "\\item 6.3\n",
       "\\item 5.6\n",
       "\\item 5.5\n",
       "\\item 5.5\n",
       "\\item 6.1\n",
       "\\item 5.8\n",
       "\\item 5\n",
       "\\item 5.6\n",
       "\\item 5.7\n",
       "\\item 5.7\n",
       "\\item 6.2\n",
       "\\item 5.1\n",
       "\\item 5.7\n",
       "\\item 6.3\n",
       "\\item 5.8\n",
       "\\item 7.1\n",
       "\\item 6.3\n",
       "\\item 6.5\n",
       "\\item 7.6\n",
       "\\item 4.9\n",
       "\\item 7.3\n",
       "\\item 6.7\n",
       "\\item 7.2\n",
       "\\item 6.5\n",
       "\\item 6.4\n",
       "\\item 6.8\n",
       "\\item 5.7\n",
       "\\item 5.8\n",
       "\\item 6.4\n",
       "\\item 6.5\n",
       "\\item 7.7\n",
       "\\item 7.7\n",
       "\\item 6\n",
       "\\item 6.9\n",
       "\\item 5.6\n",
       "\\item 7.7\n",
       "\\item 6.3\n",
       "\\item 6.7\n",
       "\\item 7.2\n",
       "\\item 6.2\n",
       "\\item 6.1\n",
       "\\item 6.4\n",
       "\\item 7.2\n",
       "\\item 7.4\n",
       "\\item 7.9\n",
       "\\item 6.4\n",
       "\\item 6.3\n",
       "\\item 6.1\n",
       "\\item 7.7\n",
       "\\item 6.3\n",
       "\\item 6.4\n",
       "\\item 6\n",
       "\\item 6.9\n",
       "\\item 6.7\n",
       "\\item 6.9\n",
       "\\item 5.8\n",
       "\\item 6.8\n",
       "\\item 6.7\n",
       "\\item 6.7\n",
       "\\item 6.3\n",
       "\\item 6.5\n",
       "\\item 6.2\n",
       "\\item 5.9\n",
       "\\end{enumerate*}\n"
      ],
      "text/markdown": [
       "1. 5.1\n",
       "2. 4.9\n",
       "3. 4.7\n",
       "4. 4.6\n",
       "5. 5\n",
       "6. 5.4\n",
       "7. 4.6\n",
       "8. 5\n",
       "9. 4.4\n",
       "10. 4.9\n",
       "11. 5.4\n",
       "12. 4.8\n",
       "13. 4.8\n",
       "14. 4.3\n",
       "15. 5.8\n",
       "16. 5.7\n",
       "17. 5.4\n",
       "18. 5.1\n",
       "19. 5.7\n",
       "20. 5.1\n",
       "21. 5.4\n",
       "22. 5.1\n",
       "23. 4.6\n",
       "24. 5.1\n",
       "25. 4.8\n",
       "26. 5\n",
       "27. 5\n",
       "28. 5.2\n",
       "29. 5.2\n",
       "30. 4.7\n",
       "31. 4.8\n",
       "32. 5.4\n",
       "33. 5.2\n",
       "34. 5.5\n",
       "35. 4.9\n",
       "36. 5\n",
       "37. 5.5\n",
       "38. 4.9\n",
       "39. 4.4\n",
       "40. 5.1\n",
       "41. 5\n",
       "42. 4.5\n",
       "43. 4.4\n",
       "44. 5\n",
       "45. 5.1\n",
       "46. 4.8\n",
       "47. 5.1\n",
       "48. 4.6\n",
       "49. 5.3\n",
       "50. 5\n",
       "51. 7\n",
       "52. 6.4\n",
       "53. 6.9\n",
       "54. 5.5\n",
       "55. 6.5\n",
       "56. 5.7\n",
       "57. 6.3\n",
       "58. 4.9\n",
       "59. 6.6\n",
       "60. 5.2\n",
       "61. 5\n",
       "62. 5.9\n",
       "63. 6\n",
       "64. 6.1\n",
       "65. 5.6\n",
       "66. 6.7\n",
       "67. 5.6\n",
       "68. 5.8\n",
       "69. 6.2\n",
       "70. 5.6\n",
       "71. 5.9\n",
       "72. 6.1\n",
       "73. 6.3\n",
       "74. 6.1\n",
       "75. 6.4\n",
       "76. 6.6\n",
       "77. 6.8\n",
       "78. 6.7\n",
       "79. 6\n",
       "80. 5.7\n",
       "81. 5.5\n",
       "82. 5.5\n",
       "83. 5.8\n",
       "84. 6\n",
       "85. 5.4\n",
       "86. 6\n",
       "87. 6.7\n",
       "88. 6.3\n",
       "89. 5.6\n",
       "90. 5.5\n",
       "91. 5.5\n",
       "92. 6.1\n",
       "93. 5.8\n",
       "94. 5\n",
       "95. 5.6\n",
       "96. 5.7\n",
       "97. 5.7\n",
       "98. 6.2\n",
       "99. 5.1\n",
       "100. 5.7\n",
       "101. 6.3\n",
       "102. 5.8\n",
       "103. 7.1\n",
       "104. 6.3\n",
       "105. 6.5\n",
       "106. 7.6\n",
       "107. 4.9\n",
       "108. 7.3\n",
       "109. 6.7\n",
       "110. 7.2\n",
       "111. 6.5\n",
       "112. 6.4\n",
       "113. 6.8\n",
       "114. 5.7\n",
       "115. 5.8\n",
       "116. 6.4\n",
       "117. 6.5\n",
       "118. 7.7\n",
       "119. 7.7\n",
       "120. 6\n",
       "121. 6.9\n",
       "122. 5.6\n",
       "123. 7.7\n",
       "124. 6.3\n",
       "125. 6.7\n",
       "126. 7.2\n",
       "127. 6.2\n",
       "128. 6.1\n",
       "129. 6.4\n",
       "130. 7.2\n",
       "131. 7.4\n",
       "132. 7.9\n",
       "133. 6.4\n",
       "134. 6.3\n",
       "135. 6.1\n",
       "136. 7.7\n",
       "137. 6.3\n",
       "138. 6.4\n",
       "139. 6\n",
       "140. 6.9\n",
       "141. 6.7\n",
       "142. 6.9\n",
       "143. 5.8\n",
       "144. 6.8\n",
       "145. 6.7\n",
       "146. 6.7\n",
       "147. 6.3\n",
       "148. 6.5\n",
       "149. 6.2\n",
       "150. 5.9\n",
       "\n",
       "\n"
      ],
      "text/plain": [
       "  [1] 5.1 4.9 4.7 4.6 5.0 5.4 4.6 5.0 4.4 4.9 5.4 4.8 4.8 4.3 5.8 5.7 5.4 5.1\n",
       " [19] 5.7 5.1 5.4 5.1 4.6 5.1 4.8 5.0 5.0 5.2 5.2 4.7 4.8 5.4 5.2 5.5 4.9 5.0\n",
       " [37] 5.5 4.9 4.4 5.1 5.0 4.5 4.4 5.0 5.1 4.8 5.1 4.6 5.3 5.0 7.0 6.4 6.9 5.5\n",
       " [55] 6.5 5.7 6.3 4.9 6.6 5.2 5.0 5.9 6.0 6.1 5.6 6.7 5.6 5.8 6.2 5.6 5.9 6.1\n",
       " [73] 6.3 6.1 6.4 6.6 6.8 6.7 6.0 5.7 5.5 5.5 5.8 6.0 5.4 6.0 6.7 6.3 5.6 5.5\n",
       " [91] 5.5 6.1 5.8 5.0 5.6 5.7 5.7 6.2 5.1 5.7 6.3 5.8 7.1 6.3 6.5 7.6 4.9 7.3\n",
       "[109] 6.7 7.2 6.5 6.4 6.8 5.7 5.8 6.4 6.5 7.7 7.7 6.0 6.9 5.6 7.7 6.3 6.7 7.2\n",
       "[127] 6.2 6.1 6.4 7.2 7.4 7.9 6.4 6.3 6.1 7.7 6.3 6.4 6.0 6.9 6.7 6.9 5.8 6.8\n",
       "[145] 6.7 6.7 6.3 6.5 6.2 5.9"
      ]
     },
     "metadata": {},
     "output_type": "display_data"
    }
   ],
   "source": [
    "# iris의 Sepal.Legth 컬럼의 내용을 1차원 벡터로 만들기.\n",
    "\n",
    "irisSL <- iris$Sepal.Length\n",
    "irisSL"
   ]
  },
  {
   "cell_type": "code",
   "execution_count": 112,
   "metadata": {},
   "outputs": [
    {
     "data": {
      "text/html": [
       "TRUE"
      ],
      "text/latex": [
       "TRUE"
      ],
      "text/markdown": [
       "TRUE"
      ],
      "text/plain": [
       "[1] TRUE"
      ]
     },
     "metadata": {},
     "output_type": "display_data"
    },
    {
     "data": {
      "text/html": [
       "'numeric'"
      ],
      "text/latex": [
       "'numeric'"
      ],
      "text/markdown": [
       "'numeric'"
      ],
      "text/plain": [
       "[1] \"numeric\""
      ]
     },
     "metadata": {},
     "output_type": "display_data"
    }
   ],
   "source": [
    "# 진짜 벡터인지 확인하기\n",
    "is.vector(irisSL)\n",
    "class(irisSL)"
   ]
  },
  {
   "cell_type": "code",
   "execution_count": 113,
   "metadata": {},
   "outputs": [
    {
     "data": {
      "text/html": [
       "876.5"
      ],
      "text/latex": [
       "876.5"
      ],
      "text/markdown": [
       "876.5"
      ],
      "text/plain": [
       "[1] 876.5"
      ]
     },
     "metadata": {},
     "output_type": "display_data"
    }
   ],
   "source": [
    "# 합계 구하기\n",
    "sum(irisSL)"
   ]
  },
  {
   "cell_type": "code",
   "execution_count": 114,
   "metadata": {},
   "outputs": [
    {
     "data": {
      "text/html": [
       "5.84333333333333"
      ],
      "text/latex": [
       "5.84333333333333"
      ],
      "text/markdown": [
       "5.84333333333333"
      ],
      "text/plain": [
       "[1] 5.843333"
      ]
     },
     "metadata": {},
     "output_type": "display_data"
    }
   ],
   "source": [
    "# 평균 구하기\n",
    "mean(irisSL)"
   ]
  },
  {
   "cell_type": "code",
   "execution_count": 119,
   "metadata": {},
   "outputs": [
    {
     "data": {
      "text/html": [
       "5.1"
      ],
      "text/latex": [
       "5.1"
      ],
      "text/markdown": [
       "5.1"
      ],
      "text/plain": [
       "[1] 5.1"
      ]
     },
     "metadata": {},
     "output_type": "display_data"
    },
    {
     "data": {
      "text/html": [
       "<ol class=list-inline>\n",
       "\t<li>5.1</li>\n",
       "\t<li>4.9</li>\n",
       "\t<li>5.1</li>\n",
       "</ol>\n"
      ],
      "text/latex": [
       "\\begin{enumerate*}\n",
       "\\item 5.1\n",
       "\\item 4.9\n",
       "\\item 5.1\n",
       "\\end{enumerate*}\n"
      ],
      "text/markdown": [
       "1. 5.1\n",
       "2. 4.9\n",
       "3. 5.1\n",
       "\n",
       "\n"
      ],
      "text/plain": [
       "[1] 5.1 4.9 5.1"
      ]
     },
     "metadata": {},
     "output_type": "display_data"
    }
   ],
   "source": [
    "# 필요한 데이터만 보기\n",
    "# 1번 데이터만 보기\n",
    "irisSL[1]\n",
    "# 1, 10, 20번 데이터만 보기\n",
    "irisSL[c(1, 10, 20)]"
   ]
  },
  {
   "cell_type": "code",
   "execution_count": 122,
   "metadata": {},
   "outputs": [
    {
     "data": {
      "text/html": [
       "15.1"
      ],
      "text/latex": [
       "15.1"
      ],
      "text/markdown": [
       "15.1"
      ],
      "text/plain": [
       "[1] 15.1"
      ]
     },
     "metadata": {},
     "output_type": "display_data"
    }
   ],
   "source": [
    "num1 <- c(1, 10, 20)\n",
    "sum(irisSL[num1])"
   ]
  },
  {
   "cell_type": "code",
   "execution_count": 123,
   "metadata": {},
   "outputs": [
    {
     "data": {
      "text/html": [
       "<ol class=list-inline>\n",
       "\t<li>5.1</li>\n",
       "\t<li>4.9</li>\n",
       "\t<li>5.1</li>\n",
       "</ol>\n"
      ],
      "text/latex": [
       "\\begin{enumerate*}\n",
       "\\item 5.1\n",
       "\\item 4.9\n",
       "\\item 5.1\n",
       "\\end{enumerate*}\n"
      ],
      "text/markdown": [
       "1. 5.1\n",
       "2. 4.9\n",
       "3. 5.1\n",
       "\n",
       "\n"
      ],
      "text/plain": [
       "[1] 5.1 4.9 5.1"
      ]
     },
     "metadata": {},
     "output_type": "display_data"
    }
   ],
   "source": [
    "num1 <- c(1, c(10, 20))\n",
    "irisSL[num1]"
   ]
  },
  {
   "cell_type": "code",
   "execution_count": 128,
   "metadata": {},
   "outputs": [
    {
     "data": {
      "text/html": [
       "<ol class=list-inline>\n",
       "\t<li>5.1</li>\n",
       "\t<li>4.9</li>\n",
       "\t<li>4.7</li>\n",
       "\t<li>4.6</li>\n",
       "\t<li>5</li>\n",
       "\t<li>5.4</li>\n",
       "\t<li>4.6</li>\n",
       "\t<li>5</li>\n",
       "\t<li>4.4</li>\n",
       "\t<li>4.9</li>\n",
       "\t<li>5.4</li>\n",
       "\t<li>4.8</li>\n",
       "\t<li>4.8</li>\n",
       "\t<li>4.3</li>\n",
       "\t<li>5.8</li>\n",
       "\t<li>5.7</li>\n",
       "\t<li>5.4</li>\n",
       "\t<li>5.1</li>\n",
       "\t<li>5.7</li>\n",
       "\t<li>5.1</li>\n",
       "</ol>\n"
      ],
      "text/latex": [
       "\\begin{enumerate*}\n",
       "\\item 5.1\n",
       "\\item 4.9\n",
       "\\item 4.7\n",
       "\\item 4.6\n",
       "\\item 5\n",
       "\\item 5.4\n",
       "\\item 4.6\n",
       "\\item 5\n",
       "\\item 4.4\n",
       "\\item 4.9\n",
       "\\item 5.4\n",
       "\\item 4.8\n",
       "\\item 4.8\n",
       "\\item 4.3\n",
       "\\item 5.8\n",
       "\\item 5.7\n",
       "\\item 5.4\n",
       "\\item 5.1\n",
       "\\item 5.7\n",
       "\\item 5.1\n",
       "\\end{enumerate*}\n"
      ],
      "text/markdown": [
       "1. 5.1\n",
       "2. 4.9\n",
       "3. 4.7\n",
       "4. 4.6\n",
       "5. 5\n",
       "6. 5.4\n",
       "7. 4.6\n",
       "8. 5\n",
       "9. 4.4\n",
       "10. 4.9\n",
       "11. 5.4\n",
       "12. 4.8\n",
       "13. 4.8\n",
       "14. 4.3\n",
       "15. 5.8\n",
       "16. 5.7\n",
       "17. 5.4\n",
       "18. 5.1\n",
       "19. 5.7\n",
       "20. 5.1\n",
       "\n",
       "\n"
      ],
      "text/plain": [
       " [1] 5.1 4.9 4.7 4.6 5.0 5.4 4.6 5.0 4.4 4.9 5.4 4.8 4.8 4.3 5.8 5.7 5.4 5.1 5.7\n",
       "[20] 5.1"
      ]
     },
     "metadata": {},
     "output_type": "display_data"
    },
    {
     "data": {
      "text/html": [
       "100.7"
      ],
      "text/latex": [
       "100.7"
      ],
      "text/markdown": [
       "100.7"
      ],
      "text/plain": [
       "[1] 100.7"
      ]
     },
     "metadata": {},
     "output_type": "display_data"
    }
   ],
   "source": [
    "# 1~20 번지의 합계\n",
    "num1 <- 1:20\n",
    "irisSL[num1]\n",
    "sum(irisSL[num1])"
   ]
  },
  {
   "cell_type": "code",
   "execution_count": 134,
   "metadata": {},
   "outputs": [
    {
     "data": {
      "text/html": [
       "<ol class=list-inline>\n",
       "\t<li>1</li>\n",
       "\t<li>2</li>\n",
       "\t<li>3</li>\n",
       "\t<li>4</li>\n",
       "\t<li>5</li>\n",
       "\t<li>6</li>\n",
       "\t<li>7</li>\n",
       "\t<li>8</li>\n",
       "\t<li>9</li>\n",
       "\t<li>10</li>\n",
       "\t<li>11</li>\n",
       "\t<li>12</li>\n",
       "\t<li>13</li>\n",
       "\t<li>14</li>\n",
       "\t<li>15</li>\n",
       "\t<li>16</li>\n",
       "\t<li>17</li>\n",
       "\t<li>18</li>\n",
       "\t<li>19</li>\n",
       "\t<li>20</li>\n",
       "\t<li>30</li>\n",
       "\t<li>40</li>\n",
       "</ol>\n"
      ],
      "text/latex": [
       "\\begin{enumerate*}\n",
       "\\item 1\n",
       "\\item 2\n",
       "\\item 3\n",
       "\\item 4\n",
       "\\item 5\n",
       "\\item 6\n",
       "\\item 7\n",
       "\\item 8\n",
       "\\item 9\n",
       "\\item 10\n",
       "\\item 11\n",
       "\\item 12\n",
       "\\item 13\n",
       "\\item 14\n",
       "\\item 15\n",
       "\\item 16\n",
       "\\item 17\n",
       "\\item 18\n",
       "\\item 19\n",
       "\\item 20\n",
       "\\item 30\n",
       "\\item 40\n",
       "\\end{enumerate*}\n"
      ],
      "text/markdown": [
       "1. 1\n",
       "2. 2\n",
       "3. 3\n",
       "4. 4\n",
       "5. 5\n",
       "6. 6\n",
       "7. 7\n",
       "8. 8\n",
       "9. 9\n",
       "10. 10\n",
       "11. 11\n",
       "12. 12\n",
       "13. 13\n",
       "14. 14\n",
       "15. 15\n",
       "16. 16\n",
       "17. 17\n",
       "18. 18\n",
       "19. 19\n",
       "20. 20\n",
       "21. 30\n",
       "22. 40\n",
       "\n",
       "\n"
      ],
      "text/plain": [
       " [1]  1  2  3  4  5  6  7  8  9 10 11 12 13 14 15 16 17 18 19 20 30 40"
      ]
     },
     "metadata": {},
     "output_type": "display_data"
    },
    {
     "data": {
      "text/html": [
       "110.5"
      ],
      "text/latex": [
       "110.5"
      ],
      "text/markdown": [
       "110.5"
      ],
      "text/plain": [
       "[1] 110.5"
      ]
     },
     "metadata": {},
     "output_type": "display_data"
    }
   ],
   "source": [
    "# irisSL에서 1~20번지, 30번지, 40번지의 합계 구하기\n",
    "c(1:20, 30, 40)\n",
    "num1 <- c(1:20, 30, 40)\n",
    "sum(irisSL[num1])"
   ]
  },
  {
   "cell_type": "code",
   "execution_count": 138,
   "metadata": {},
   "outputs": [
    {
     "data": {
      "text/html": [
       "<ol class=list-inline>\n",
       "\t<li>10</li>\n",
       "\t<li>20</li>\n",
       "\t<li>30</li>\n",
       "\t<li>40</li>\n",
       "\t<li>50</li>\n",
       "</ol>\n"
      ],
      "text/latex": [
       "\\begin{enumerate*}\n",
       "\\item 10\n",
       "\\item 20\n",
       "\\item 30\n",
       "\\item 40\n",
       "\\item 50\n",
       "\\end{enumerate*}\n"
      ],
      "text/markdown": [
       "1. 10\n",
       "2. 20\n",
       "3. 30\n",
       "4. 40\n",
       "5. 50\n",
       "\n",
       "\n"
      ],
      "text/plain": [
       "[1] 10 20 30 40 50"
      ]
     },
     "metadata": {},
     "output_type": "display_data"
    },
    {
     "data": {
      "text/html": [
       "<ol class=list-inline>\n",
       "\t<li>10</li>\n",
       "\t<li>200</li>\n",
       "\t<li>30</li>\n",
       "\t<li>400</li>\n",
       "\t<li>50</li>\n",
       "</ol>\n"
      ],
      "text/latex": [
       "\\begin{enumerate*}\n",
       "\\item 10\n",
       "\\item 200\n",
       "\\item 30\n",
       "\\item 400\n",
       "\\item 50\n",
       "\\end{enumerate*}\n"
      ],
      "text/markdown": [
       "1. 10\n",
       "2. 200\n",
       "3. 30\n",
       "4. 400\n",
       "5. 50\n",
       "\n",
       "\n"
      ],
      "text/plain": [
       "[1]  10 200  30 400  50"
      ]
     },
     "metadata": {},
     "output_type": "display_data"
    }
   ],
   "source": [
    "# 벡터형 자료의 일부를 별경\n",
    "x <- c(10,20,30,40,50)\n",
    "x\n",
    "replace(x, c(2,4), c(200, 400)) #앞에가 번지 수고, 뒤에가 데이터"
   ]
  },
  {
   "cell_type": "code",
   "execution_count": 141,
   "metadata": {},
   "outputs": [
    {
     "data": {
      "text/html": [
       "5050"
      ],
      "text/latex": [
       "5050"
      ],
      "text/markdown": [
       "5050"
      ],
      "text/plain": [
       "[1] 5050"
      ]
     },
     "metadata": {},
     "output_type": "display_data"
    }
   ],
   "source": [
    "# 1부터 100까지의 합계 구하기\n",
    "sum(1:100)"
   ]
  },
  {
   "cell_type": "code",
   "execution_count": 144,
   "metadata": {},
   "outputs": [
    {
     "data": {
      "text/html": [
       "438"
      ],
      "text/latex": [
       "438"
      ],
      "text/markdown": [
       "438"
      ],
      "text/plain": [
       "[1] 438"
      ]
     },
     "metadata": {},
     "output_type": "display_data"
    }
   ],
   "source": [
    "# irisSL에서 홀수 번지의 합계 구하기\n",
    "sum(irisSL[seq(1, 150, 2)])"
   ]
  },
  {
   "cell_type": "code",
   "execution_count": null,
   "metadata": {},
   "outputs": [],
   "source": []
  }
 ],
 "metadata": {
  "kernelspec": {
   "display_name": "R",
   "language": "R",
   "name": "ir"
  },
  "language_info": {
   "codemirror_mode": "r",
   "file_extension": ".r",
   "mimetype": "text/x-r-source",
   "name": "R",
   "pygments_lexer": "r",
   "version": "3.6.1"
  }
 },
 "nbformat": 4,
 "nbformat_minor": 4
}
