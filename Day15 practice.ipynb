{
 "cells": [
  {
   "cell_type": "code",
   "execution_count": 1,
   "metadata": {
    "scrolled": false
   },
   "outputs": [
    {
     "data": {
      "text/html": [
       "<table>\n",
       "<thead><tr><th scope=col>이름</th><th scope=col>성적</th><th scope=col>IQ</th><th scope=col>다니는.학원수</th><th scope=col>게임하는.시간</th><th scope=col>TV시청.시간</th></tr></thead>\n",
       "<tbody>\n",
       "\t<tr><td>A  </td><td>90 </td><td>140</td><td>2  </td><td>1  </td><td>0  </td></tr>\n",
       "\t<tr><td>B  </td><td>75 </td><td>125</td><td>1  </td><td>3  </td><td>3  </td></tr>\n",
       "\t<tr><td>C  </td><td>77 </td><td>120</td><td>1  </td><td>0  </td><td>4  </td></tr>\n",
       "\t<tr><td>D  </td><td>83 </td><td>135</td><td>2  </td><td>3  </td><td>2  </td></tr>\n",
       "\t<tr><td>E  </td><td>65 </td><td>105</td><td>0  </td><td>4  </td><td>4  </td></tr>\n",
       "\t<tr><td>F  </td><td>80 </td><td>123</td><td>3  </td><td>1  </td><td>1  </td></tr>\n",
       "\t<tr><td>G  </td><td>83 </td><td>132</td><td>3  </td><td>4  </td><td>1  </td></tr>\n",
       "\t<tr><td>H  </td><td>70 </td><td>115</td><td>1  </td><td>1  </td><td>3  </td></tr>\n",
       "\t<tr><td>I  </td><td>87 </td><td>128</td><td>4  </td><td>0  </td><td>0  </td></tr>\n",
       "\t<tr><td>J  </td><td>79 </td><td>131</td><td>2  </td><td>2  </td><td>3  </td></tr>\n",
       "</tbody>\n",
       "</table>\n"
      ],
      "text/latex": [
       "\\begin{tabular}{r|llllll}\n",
       " 이름 & 성적 & IQ & 다니는.학원수 & 게임하는.시간 & TV시청.시간\\\\\n",
       "\\hline\n",
       "\t A   & 90  & 140 & 2   & 1   & 0  \\\\\n",
       "\t B   & 75  & 125 & 1   & 3   & 3  \\\\\n",
       "\t C   & 77  & 120 & 1   & 0   & 4  \\\\\n",
       "\t D   & 83  & 135 & 2   & 3   & 2  \\\\\n",
       "\t E   & 65  & 105 & 0   & 4   & 4  \\\\\n",
       "\t F   & 80  & 123 & 3   & 1   & 1  \\\\\n",
       "\t G   & 83  & 132 & 3   & 4   & 1  \\\\\n",
       "\t H   & 70  & 115 & 1   & 1   & 3  \\\\\n",
       "\t I   & 87  & 128 & 4   & 0   & 0  \\\\\n",
       "\t J   & 79  & 131 & 2   & 2   & 3  \\\\\n",
       "\\end{tabular}\n"
      ],
      "text/markdown": [
       "\n",
       "| 이름 | 성적 | IQ | 다니는.학원수 | 게임하는.시간 | TV시청.시간 |\n",
       "|---|---|---|---|---|---|\n",
       "| A   | 90  | 140 | 2   | 1   | 0   |\n",
       "| B   | 75  | 125 | 1   | 3   | 3   |\n",
       "| C   | 77  | 120 | 1   | 0   | 4   |\n",
       "| D   | 83  | 135 | 2   | 3   | 2   |\n",
       "| E   | 65  | 105 | 0   | 4   | 4   |\n",
       "| F   | 80  | 123 | 3   | 1   | 1   |\n",
       "| G   | 83  | 132 | 3   | 4   | 1   |\n",
       "| H   | 70  | 115 | 1   | 1   | 3   |\n",
       "| I   | 87  | 128 | 4   | 0   | 0   |\n",
       "| J   | 79  | 131 | 2   | 2   | 3   |\n",
       "\n"
      ],
      "text/plain": [
       "   이름 성적 IQ  다니는.학원수 게임하는.시간 TV시청.시간\n",
       "1  A    90   140 2             1             0          \n",
       "2  B    75   125 1             3             3          \n",
       "3  C    77   120 1             0             4          \n",
       "4  D    83   135 2             3             2          \n",
       "5  E    65   105 0             4             4          \n",
       "6  F    80   123 3             1             1          \n",
       "7  G    83   132 3             4             1          \n",
       "8  H    70   115 1             1             3          \n",
       "9  I    87   128 4             0             0          \n",
       "10 J    79   131 2             2             3          "
      ]
     },
     "metadata": {},
     "output_type": "display_data"
    }
   ],
   "source": [
    "iq <- read.csv(\"../Data/IQ.csv\")\n",
    "iq"
   ]
  },
  {
   "cell_type": "code",
   "execution_count": 2,
   "metadata": {
    "collapsed": true
   },
   "outputs": [
    {
     "data": {
      "text/html": [
       "0.78405144055891"
      ],
      "text/latex": [
       "0.78405144055891"
      ],
      "text/markdown": [
       "0.78405144055891"
      ],
      "text/plain": [
       "[1] 0.7840514"
      ]
     },
     "metadata": {},
     "output_type": "display_data"
    },
    {
     "data": {
      "image/png": "[encoded data removed]",
      "text/plain": [
       "plot without title"
      ]
     },
     "metadata": {},
     "output_type": "display_data"
    }
   ],
   "source": [
    "# 학원을 몇군데 다녀야 성적이 90점 이상이 될까? -> 성적이 90점 이상인 사람은 학원을 몇 군데 다닐까? \n",
    "cor(iq$다니는.학원수, iq$성적)\n",
    "plot(iq$다니는.학원수 ~ iq$성적)\n",
    "hak <- lm(iq$다니는.학원수 ~ iq$성적)\n",
    "abline(hak, col = \"red\")"
   ]
  },
  {
   "cell_type": "code",
   "execution_count": 3,
   "metadata": {
    "collapsed": true
   },
   "outputs": [
    {
     "data": {
      "text/plain": [
       "\n",
       "Call:\n",
       "lm(formula = iq$다니는.학원수 ~ iq$성적)\n",
       "\n",
       "Residuals:\n",
       "    Min      1Q  Median      3Q     Max \n",
       "-1.2775 -0.4142 -0.0437  0.4945  1.0948 \n",
       "\n",
       "Coefficients:\n",
       "            Estimate Std. Error t value Pr(>|t|)   \n",
       "(Intercept) -7.89163    2.75190  -2.868  0.02090 * \n",
       "iq$성적      0.12410    0.03473   3.573  0.00726 **\n",
       "---\n",
       "Signif. codes:  0 '***' 0.001 '**' 0.01 '*' 0.05 '.' 0.1 ' ' 1\n",
       "\n",
       "Residual standard error: 0.7882 on 8 degrees of freedom\n",
       "Multiple R-squared:  0.6147,\tAdjusted R-squared:  0.5666 \n",
       "F-statistic: 12.77 on 1 and 8 DF,  p-value: 0.007264\n"
      ]
     },
     "metadata": {},
     "output_type": "display_data"
    },
    {
     "data": {
      "text/plain": [
       "\n",
       "Call:\n",
       "lm(formula = iq$다니는.학원수 ~ iq$성적)\n",
       "\n",
       "Coefficients:\n",
       "(Intercept)      iq$성적  \n",
       "    -7.8916       0.1241  \n"
      ]
     },
     "metadata": {},
     "output_type": "display_data"
    }
   ],
   "source": [
    "summary(hak)\n",
    "hak"
   ]
  },
  {
   "cell_type": "code",
   "execution_count": 4,
   "metadata": {},
   "outputs": [
    {
     "data": {
      "text/html": [
       "3.2774"
      ],
      "text/latex": [
       "3.2774"
      ],
      "text/markdown": [
       "3.2774"
      ],
      "text/plain": [
       "[1] 3.2774"
      ]
     },
     "metadata": {},
     "output_type": "display_data"
    }
   ],
   "source": [
    "# y= 0.1241 x -7.8916\n",
    "0.1241 * 90 + -7.8916\n",
    "\n",
    "# 3.2774 -> 0.x이상부터 1미만이면 1군데, 1이상부터 2미만이면 2군데, 2이상부터 3미만이면 3군데, 3이상부터 4미만이면 4군데를 다니는 것. \n",
    "# 그래서 3.2xx는 3이상 4미만이기 때문에 4군데 이상 다닌다고 할 수 있다. "
   ]
  },
  {
   "cell_type": "code",
   "execution_count": 18,
   "metadata": {
    "scrolled": true
   },
   "outputs": [
    {
     "data": {
      "text/html": [
       "0.78405144055891"
      ],
      "text/latex": [
       "0.78405144055891"
      ],
      "text/markdown": [
       "0.78405144055891"
      ],
      "text/plain": [
       "[1] 0.7840514"
      ]
     },
     "metadata": {},
     "output_type": "display_data"
    },
    {
     "data": {
      "text/plain": [
       "\n",
       "Call:\n",
       "lm(formula = iq$성적 ~ iq$다니는.학원수)\n",
       "\n",
       "Coefficients:\n",
       "     (Intercept)  iq$다니는.학원수  \n",
       "          69.488             4.953  \n"
      ]
     },
     "metadata": {},
     "output_type": "display_data"
    },
    {
     "data": {
      "image/png": "[encoded data removed]",
      "text/plain": [
       "plot without title"
      ]
     },
     "metadata": {},
     "output_type": "display_data"
    }
   ],
   "source": [
    "# 학원을 몇군데 다녀야 성적이 90점 이상이 될까? (독립변수와 종속변수 두 개 바뀌게 해도 상관없음)\n",
    "\n",
    "cor(iq$성적, iq$다니는.학원수)\n",
    "plot(iq$성적 ~ iq$다니는.학원수)\n",
    "hak <- lm(iq$성적 ~ iq$다니는.학원수)\n",
    "abline(hak, col=\"red\")\n",
    "hak"
   ]
  },
  {
   "cell_type": "code",
   "execution_count": 6,
   "metadata": {
    "scrolled": true
   },
   "outputs": [
    {
     "data": {
      "text/html": [
       "90"
      ],
      "text/latex": [
       "90"
      ],
      "text/markdown": [
       "90"
      ],
      "text/plain": [
       "[1] 90"
      ]
     },
     "metadata": {},
     "output_type": "display_data"
    },
    {
     "data": {
      "text/html": [
       "74.441"
      ],
      "text/latex": [
       "74.441"
      ],
      "text/markdown": [
       "74.441"
      ],
      "text/plain": [
       "[1] 74.441"
      ]
     },
     "metadata": {},
     "output_type": "display_data"
    },
    {
     "data": {
      "text/html": [
       "79.394"
      ],
      "text/latex": [
       "79.394"
      ],
      "text/markdown": [
       "79.394"
      ],
      "text/plain": [
       "[1] 79.394"
      ]
     },
     "metadata": {},
     "output_type": "display_data"
    },
    {
     "data": {
      "text/html": [
       "84.347"
      ],
      "text/latex": [
       "84.347"
      ],
      "text/markdown": [
       "84.347"
      ],
      "text/plain": [
       "[1] 84.347"
      ]
     },
     "metadata": {},
     "output_type": "display_data"
    },
    {
     "data": {
      "text/html": [
       "89.3"
      ],
      "text/latex": [
       "89.3"
      ],
      "text/markdown": [
       "89.3"
      ],
      "text/plain": [
       "[1] 89.3"
      ]
     },
     "metadata": {},
     "output_type": "display_data"
    }
   ],
   "source": [
    "# y= 4.953 * x + 69.488               \n",
    "4.953 * 4.14132848778518 + 69.488\n",
    "\n",
    "4.953 * 1 + 69.488\n",
    "4.953 * 2 + 69.488\n",
    "4.953 * 3 + 69.488\n",
    "4.953 * 4 + 69.488"
   ]
  },
  {
   "cell_type": "code",
   "execution_count": 22,
   "metadata": {},
   "outputs": [
    {
     "data": {
      "text/html": [
       "4.14132848778518"
      ],
      "text/latex": [
       "4.14132848778518"
      ],
      "text/markdown": [
       "4.14132848778518"
      ],
      "text/plain": [
       "[1] 4.141328"
      ]
     },
     "metadata": {},
     "output_type": "display_data"
    }
   ],
   "source": [
    "(90 - 69.488) / 4.953"
   ]
  }
 ],
 "metadata": {
  "kernelspec": {
   "display_name": "R",
   "language": "R",
   "name": "ir"
  },
  "language_info": {
   "codemirror_mode": "r",
   "file_extension": ".r",
   "mimetype": "text/x-r-source",
   "name": "R",
   "pygments_lexer": "r",
   "version": "3.6.1"
  }
 },
 "nbformat": 4,
 "nbformat_minor": 4
}
